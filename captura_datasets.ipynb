{
  "nbformat": 4,
  "nbformat_minor": 0,
  "metadata": {
    "colab": {
      "name": "captura_datasets.ipynb",
      "provenance": [],
      "collapsed_sections": [],
      "mount_file_id": "16TS8Wi7n4Q9ByH4fCSWp7RFSs1tdNZLk",
      "authorship_tag": "ABX9TyNT2Pt3liDK+J+VX5YAkohg",
      "include_colab_link": true
    },
    "kernelspec": {
      "name": "python3",
      "display_name": "Python 3"
    },
    "language_info": {
      "name": "python"
    }
  },
  "cells": [
    {
      "cell_type": "markdown",
      "metadata": {
        "id": "view-in-github",
        "colab_type": "text"
      },
      "source": [
        "<a href=\"https://colab.research.google.com/github/tiagoaos/tcc-puc-bigdata/blob/master/captura_datasets.ipynb\" target=\"_parent\"><img src=\"https://colab.research.google.com/assets/colab-badge.svg\" alt=\"Open In Colab\"/></a>"
      ]
    },
    {
      "cell_type": "code",
      "metadata": {
        "id": "L6Jgk-xJAfMf",
        "colab": {
          "base_uri": "https://localhost:8080/"
        },
        "outputId": "672bec9e-2f2c-4a83-c384-252638f14c46"
      },
      "source": [
        "\n",
        "from textblob import TextBlob as tb\n",
        "import tweepy\n",
        "import numpy as np\n",
        "\n",
        "# !pip install translate\n",
        "# from translate import Translator\n",
        "!pip install texthero\n",
        "\n",
        "import nltk\n",
        "from nltk.corpus import stopwords\n",
        "from nltk.tokenize import sent_tokenize, word_tokenize\n",
        "nltk.download('punkt')\n",
        "import re\n",
        "import networkx\n",
        "import collections\n",
        "import itertools\n",
        "from datetime import datetime\n",
        "import pandas as pd\n",
        "import texthero as hero\n",
        "\n"
      ],
      "execution_count": null,
      "outputs": [
        {
          "output_type": "stream",
          "text": [
            "Requirement already satisfied: texthero in /usr/local/lib/python3.7/dist-packages (1.0.9)\n",
            "Requirement already satisfied: unidecode>=1.1.1 in /usr/local/lib/python3.7/dist-packages (from texthero) (1.2.0)\n",
            "Requirement already satisfied: matplotlib>=3.1.0 in /usr/local/lib/python3.7/dist-packages (from texthero) (3.2.2)\n",
            "Requirement already satisfied: plotly>=4.2.0 in /usr/local/lib/python3.7/dist-packages (from texthero) (4.4.1)\n",
            "Requirement already satisfied: tqdm>=4.3 in /usr/local/lib/python3.7/dist-packages (from texthero) (4.41.1)\n",
            "Requirement already satisfied: scikit-learn>=0.22 in /usr/local/lib/python3.7/dist-packages (from texthero) (0.22.2.post1)\n",
            "Requirement already satisfied: pandas>=1.0.2 in /usr/local/lib/python3.7/dist-packages (from texthero) (1.1.5)\n",
            "Requirement already satisfied: wordcloud>=1.5.0 in /usr/local/lib/python3.7/dist-packages (from texthero) (1.5.0)\n",
            "Requirement already satisfied: spacy>=2.2.2 in /usr/local/lib/python3.7/dist-packages (from texthero) (2.2.4)\n",
            "Requirement already satisfied: nltk>=3.3 in /usr/local/lib/python3.7/dist-packages (from texthero) (3.6.1)\n",
            "Requirement already satisfied: gensim>=3.6.0 in /usr/local/lib/python3.7/dist-packages (from texthero) (3.6.0)\n",
            "Requirement already satisfied: numpy>=1.17 in /usr/local/lib/python3.7/dist-packages (from texthero) (1.19.5)\n",
            "Requirement already satisfied: cycler>=0.10 in /usr/local/lib/python3.7/dist-packages (from matplotlib>=3.1.0->texthero) (0.10.0)\n",
            "Requirement already satisfied: pyparsing!=2.0.4,!=2.1.2,!=2.1.6,>=2.0.1 in /usr/local/lib/python3.7/dist-packages (from matplotlib>=3.1.0->texthero) (2.4.7)\n",
            "Requirement already satisfied: python-dateutil>=2.1 in /usr/local/lib/python3.7/dist-packages (from matplotlib>=3.1.0->texthero) (2.8.1)\n",
            "Requirement already satisfied: kiwisolver>=1.0.1 in /usr/local/lib/python3.7/dist-packages (from matplotlib>=3.1.0->texthero) (1.3.1)\n",
            "Requirement already satisfied: retrying>=1.3.3 in /usr/local/lib/python3.7/dist-packages (from plotly>=4.2.0->texthero) (1.3.3)\n",
            "Requirement already satisfied: six in /usr/local/lib/python3.7/dist-packages (from plotly>=4.2.0->texthero) (1.15.0)\n",
            "Requirement already satisfied: joblib>=0.11 in /usr/local/lib/python3.7/dist-packages (from scikit-learn>=0.22->texthero) (1.0.1)\n",
            "Requirement already satisfied: scipy>=0.17.0 in /usr/local/lib/python3.7/dist-packages (from scikit-learn>=0.22->texthero) (1.4.1)\n",
            "Requirement already satisfied: pytz>=2017.2 in /usr/local/lib/python3.7/dist-packages (from pandas>=1.0.2->texthero) (2018.9)\n",
            "Requirement already satisfied: pillow in /usr/local/lib/python3.7/dist-packages (from wordcloud>=1.5.0->texthero) (7.1.2)\n",
            "Requirement already satisfied: requests<3.0.0,>=2.13.0 in /usr/local/lib/python3.7/dist-packages (from spacy>=2.2.2->texthero) (2.23.0)\n",
            "Requirement already satisfied: murmurhash<1.1.0,>=0.28.0 in /usr/local/lib/python3.7/dist-packages (from spacy>=2.2.2->texthero) (1.0.5)\n",
            "Requirement already satisfied: plac<1.2.0,>=0.9.6 in /usr/local/lib/python3.7/dist-packages (from spacy>=2.2.2->texthero) (1.1.3)\n",
            "Requirement already satisfied: setuptools in /usr/local/lib/python3.7/dist-packages (from spacy>=2.2.2->texthero) (54.2.0)\n",
            "Requirement already satisfied: cymem<2.1.0,>=2.0.2 in /usr/local/lib/python3.7/dist-packages (from spacy>=2.2.2->texthero) (2.0.5)\n",
            "Requirement already satisfied: thinc==7.4.0 in /usr/local/lib/python3.7/dist-packages (from spacy>=2.2.2->texthero) (7.4.0)\n",
            "Requirement already satisfied: catalogue<1.1.0,>=0.0.7 in /usr/local/lib/python3.7/dist-packages (from spacy>=2.2.2->texthero) (1.0.0)\n",
            "Requirement already satisfied: wasabi<1.1.0,>=0.4.0 in /usr/local/lib/python3.7/dist-packages (from spacy>=2.2.2->texthero) (0.8.2)\n",
            "Requirement already satisfied: srsly<1.1.0,>=1.0.2 in /usr/local/lib/python3.7/dist-packages (from spacy>=2.2.2->texthero) (1.0.5)\n",
            "Requirement already satisfied: preshed<3.1.0,>=3.0.2 in /usr/local/lib/python3.7/dist-packages (from spacy>=2.2.2->texthero) (3.0.5)\n",
            "Requirement already satisfied: blis<0.5.0,>=0.4.0 in /usr/local/lib/python3.7/dist-packages (from spacy>=2.2.2->texthero) (0.4.1)\n",
            "Requirement already satisfied: click in /usr/local/lib/python3.7/dist-packages (from nltk>=3.3->texthero) (7.1.2)\n",
            "Requirement already satisfied: regex in /usr/local/lib/python3.7/dist-packages (from nltk>=3.3->texthero) (2019.12.20)\n",
            "Requirement already satisfied: smart-open>=1.2.1 in /usr/local/lib/python3.7/dist-packages (from gensim>=3.6.0->texthero) (4.2.0)\n",
            "Requirement already satisfied: certifi>=2017.4.17 in /usr/local/lib/python3.7/dist-packages (from requests<3.0.0,>=2.13.0->spacy>=2.2.2->texthero) (2020.12.5)\n",
            "Requirement already satisfied: idna<3,>=2.5 in /usr/local/lib/python3.7/dist-packages (from requests<3.0.0,>=2.13.0->spacy>=2.2.2->texthero) (2.10)\n",
            "Requirement already satisfied: chardet<4,>=3.0.2 in /usr/local/lib/python3.7/dist-packages (from requests<3.0.0,>=2.13.0->spacy>=2.2.2->texthero) (3.0.4)\n",
            "Requirement already satisfied: urllib3!=1.25.0,!=1.25.1,<1.26,>=1.21.1 in /usr/local/lib/python3.7/dist-packages (from requests<3.0.0,>=2.13.0->spacy>=2.2.2->texthero) (1.24.3)\n",
            "Requirement already satisfied: importlib-metadata>=0.20; python_version < \"3.8\" in /usr/local/lib/python3.7/dist-packages (from catalogue<1.1.0,>=0.0.7->spacy>=2.2.2->texthero) (3.8.1)\n",
            "Requirement already satisfied: zipp>=0.5 in /usr/local/lib/python3.7/dist-packages (from importlib-metadata>=0.20; python_version < \"3.8\"->catalogue<1.1.0,>=0.0.7->spacy>=2.2.2->texthero) (3.4.1)\n",
            "Requirement already satisfied: typing-extensions>=3.6.4; python_version < \"3.8\" in /usr/local/lib/python3.7/dist-packages (from importlib-metadata>=0.20; python_version < \"3.8\"->catalogue<1.1.0,>=0.0.7->spacy>=2.2.2->texthero) (3.7.4.3)\n"
          ],
          "name": "stdout"
        },
        {
          "output_type": "stream",
          "text": [
            "[nltk_data] Downloading package punkt to /root/nltk_data...\n",
            "[nltk_data]   Package punkt is already up-to-date!\n"
          ],
          "name": "stderr"
        }
      ]
    },
    {
      "cell_type": "markdown",
      "metadata": {
        "id": "4B6PuEhqR4V-"
      },
      "source": [
        "Adiciona chaves da api do twitter\n",
        "\n",
        "\n",
        "\n"
      ]
    },
    {
      "cell_type": "code",
      "metadata": {
        "id": "-rpi2Xs3AhdP"
      },
      "source": [
        "consumer_key = '<chave de acesso>'\n",
        "consumer_secret = '<senha de acesso do tweet'\n",
        "access_token = '<token de acesso>'\n",
        "access_token_secret = '< senha do token>'"
      ],
      "execution_count": null,
      "outputs": []
    },
    {
      "cell_type": "markdown",
      "metadata": {
        "id": "-lOBy3HgpA-j"
      },
      "source": [
        ""
      ]
    },
    {
      "cell_type": "code",
      "metadata": {
        "id": "5LF50kEPBTAl"
      },
      "source": [
        "auth = tweepy.OAuthHandler(consumer_key, consumer_secret)\n",
        "auth.set_access_token(access_token, access_token_secret)\n",
        "api = tweepy.API(auth)"
      ],
      "execution_count": null,
      "outputs": []
    },
    {
      "cell_type": "code",
      "metadata": {
        "id": "3KimjZ-1BcLW"
      },
      "source": [
        "analysis = None"
      ],
      "execution_count": null,
      "outputs": []
    },
    {
      "cell_type": "code",
      "metadata": {
        "id": "uc_9K_veOuon"
      },
      "source": [
        "public_tweets = api.search('dolar lang:pt (from:InvestingBrasil OR from:valoreconomico OR from:UOLEconomia)',count =30)\n"
      ],
      "execution_count": null,
      "outputs": []
    },
    {
      "cell_type": "code",
      "metadata": {
        "colab": {
          "base_uri": "https://localhost:8080/"
        },
        "id": "BzvcjPuVqp7E",
        "outputId": "dcfeb3d5-2e7d-4a5e-a85c-9a9f88120fce"
      },
      "source": [
        "nltk.download('stopwords')\n",
        "stopwords = nltk.corpus.stopwords.words('portuguese')\n",
        "print(stopwords)"
      ],
      "execution_count": null,
      "outputs": [
        {
          "output_type": "stream",
          "text": [
            "['de', 'a', 'o', 'que', 'e', 'é', 'do', 'da', 'em', 'um', 'para', 'com', 'não', 'uma', 'os', 'no', 'se', 'na', 'por', 'mais', 'as', 'dos', 'como', 'mas', 'ao', 'ele', 'das', 'à', 'seu', 'sua', 'ou', 'quando', 'muito', 'nos', 'já', 'eu', 'também', 'só', 'pelo', 'pela', 'até', 'isso', 'ela', 'entre', 'depois', 'sem', 'mesmo', 'aos', 'seus', 'quem', 'nas', 'me', 'esse', 'eles', 'você', 'essa', 'num', 'nem', 'suas', 'meu', 'às', 'minha', 'numa', 'pelos', 'elas', 'qual', 'nós', 'lhe', 'deles', 'essas', 'esses', 'pelas', 'este', 'dele', 'tu', 'te', 'vocês', 'vos', 'lhes', 'meus', 'minhas', 'teu', 'tua', 'teus', 'tuas', 'nosso', 'nossa', 'nossos', 'nossas', 'dela', 'delas', 'esta', 'estes', 'estas', 'aquele', 'aquela', 'aqueles', 'aquelas', 'isto', 'aquilo', 'estou', 'está', 'estamos', 'estão', 'estive', 'esteve', 'estivemos', 'estiveram', 'estava', 'estávamos', 'estavam', 'estivera', 'estivéramos', 'esteja', 'estejamos', 'estejam', 'estivesse', 'estivéssemos', 'estivessem', 'estiver', 'estivermos', 'estiverem', 'hei', 'há', 'havemos', 'hão', 'houve', 'houvemos', 'houveram', 'houvera', 'houvéramos', 'haja', 'hajamos', 'hajam', 'houvesse', 'houvéssemos', 'houvessem', 'houver', 'houvermos', 'houverem', 'houverei', 'houverá', 'houveremos', 'houverão', 'houveria', 'houveríamos', 'houveriam', 'sou', 'somos', 'são', 'era', 'éramos', 'eram', 'fui', 'foi', 'fomos', 'foram', 'fora', 'fôramos', 'seja', 'sejamos', 'sejam', 'fosse', 'fôssemos', 'fossem', 'for', 'formos', 'forem', 'serei', 'será', 'seremos', 'serão', 'seria', 'seríamos', 'seriam', 'tenho', 'tem', 'temos', 'tém', 'tinha', 'tínhamos', 'tinham', 'tive', 'teve', 'tivemos', 'tiveram', 'tivera', 'tivéramos', 'tenha', 'tenhamos', 'tenham', 'tivesse', 'tivéssemos', 'tivessem', 'tiver', 'tivermos', 'tiverem', 'terei', 'terá', 'teremos', 'terão', 'teria', 'teríamos', 'teriam']\n"
          ],
          "name": "stdout"
        },
        {
          "output_type": "stream",
          "text": [
            "[nltk_data] Downloading package stopwords to /root/nltk_data...\n",
            "[nltk_data]   Package stopwords is already up-to-date!\n"
          ],
          "name": "stderr"
        }
      ]
    },
    {
      "cell_type": "code",
      "metadata": {
        "colab": {
          "base_uri": "https://localhost:8080/"
        },
        "id": "42ApDAsCBcsW",
        "outputId": "f6290b87-af01-47a3-ad79-c50c03a3c419"
      },
      "source": [
        "tweets = [] # Lista vazia para armazenar scores\n",
        "tweets_text = []\n",
        "twets_date = []\n",
        "tweets_witout_url = []\n",
        "# translator= Translator(to_lang=\"en\",from_lang=\"pt\",email=\"newsapi83@gmail.com\")\n",
        "# print(public_tweets)\n",
        "for tweet in public_tweets:\n",
        "    tweet_tnk_date = []\n",
        "    dt_obj  = \"\"\n",
        "    analysis = tb(tweet.text)\n",
        "    \n",
        "    # print(\"tran:\"+translator.translate(tweet.text))\n",
        "    # print(analysis.detect_language())\n",
        "    polarity = analysis.sentiment.polarity\n",
        "    tweets.append(polarity)\n",
        "    without_url = re.sub(r'http\\S+', \"\", tweet.text)\n",
        "    without_url =re.sub(u'[^a-zA-Z0-9áéíóúÁÉÍÓÚâêîôÂÊÎÔãõÃÕçÇ: ]', '', without_url).lower()\n",
        "    tokens = word_tokenize(without_url)\n",
        "    filtered_sentence = [w for w in tokens if not w in stopwords]  \n",
        "    tweet_tnk_date.append(without_url)\n",
        "    tweet_tnk_date.append(tweet.created_at)\n",
        "    tweets_text.append(filtered_sentence)\n",
        "    twets_date.append(tweet_tnk_date)\n",
        "    tweets_witout_url.append(tweet_tnk_date)\n",
        "    print(str(tweet.created_at)+\" \"+str(datetime.now()))\n",
        "\n",
        "    if(datetime.now() - tweet.created_at ).days <3:\n",
        "      tweets_text.append(filtered_sentence)\n",
        "      \n",
        "  \n",
        "    \n"
      ],
      "execution_count": null,
      "outputs": [
        {
          "output_type": "stream",
          "text": [
            "foi\n",
            "2021-04-09 21:40:02 2021-04-11 18:41:57.425246\n",
            "2021-04-09 21:20:33 2021-04-11 18:41:57.427308\n",
            "2021-04-09 20:37:29 2021-04-11 18:41:57.429830\n",
            "2021-04-09 20:29:58 2021-04-11 18:41:57.431637\n",
            "2021-04-09 20:02:58 2021-04-11 18:41:57.433767\n",
            "2021-04-09 13:04:21 2021-04-11 18:41:57.434774\n",
            "2021-04-09 12:17:02 2021-04-11 18:41:57.435725\n",
            "2021-04-08 20:40:26 2021-04-11 18:41:57.436621\n",
            "2021-04-08 20:35:36 2021-04-11 18:41:57.437572\n",
            "2021-04-08 18:57:59 2021-04-11 18:41:57.439013\n",
            "2021-04-08 14:52:56 2021-04-11 18:41:57.440049\n",
            "2021-04-08 13:22:44 2021-04-11 18:41:57.441186\n",
            "2021-04-08 12:19:14 2021-04-11 18:41:57.442979\n",
            "2021-04-07 21:25:01 2021-04-11 18:41:57.445652\n",
            "2021-04-07 21:04:09 2021-04-11 18:41:57.446268\n",
            "2021-04-07 20:38:24 2021-04-11 18:41:57.446806\n",
            "2021-04-07 20:27:27 2021-04-11 18:41:57.447352\n",
            "2021-04-07 18:03:15 2021-04-11 18:41:57.447929\n",
            "2021-04-07 12:22:34 2021-04-11 18:41:57.448495\n",
            "2021-04-06 21:56:18 2021-04-11 18:41:57.450838\n",
            "2021-04-06 21:00:12 2021-04-11 18:41:57.455874\n",
            "2021-04-06 20:52:33 2021-04-11 18:41:57.456597\n",
            "2021-04-06 20:31:44 2021-04-11 18:41:57.457239\n",
            "2021-04-06 13:38:41 2021-04-11 18:41:57.457804\n",
            "2021-04-06 12:24:01 2021-04-11 18:41:57.458400\n",
            "2021-04-05 21:29:08 2021-04-11 18:41:57.458957\n",
            "2021-04-05 20:40:45 2021-04-11 18:41:57.459533\n",
            "2021-04-05 20:40:03 2021-04-11 18:41:57.460071\n",
            "2021-04-05 12:33:42 2021-04-11 18:41:57.460667\n",
            "2021-04-05 12:12:16 2021-04-11 18:41:57.461336\n"
          ],
          "name": "stdout"
        }
      ]
    },
    {
      "cell_type": "markdown",
      "metadata": {
        "id": "TZ2znvLDSJaL"
      },
      "source": [
        "Pega informações do drive para guardar os datasets"
      ]
    },
    {
      "cell_type": "code",
      "metadata": {
        "colab": {
          "base_uri": "https://localhost:8080/"
        },
        "id": "OW40ufhggVUT",
        "outputId": "be5cff8b-a462-4cb3-92e6-30c7587fe322"
      },
      "source": [
        "from google.colab import drive\n",
        "drive.mount('/content/drive')"
      ],
      "execution_count": null,
      "outputs": [
        {
          "output_type": "stream",
          "text": [
            "Drive already mounted at /content/drive; to attempt to forcibly remount, call drive.mount(\"/content/drive\", force_remount=True).\n"
          ],
          "name": "stdout"
        }
      ]
    },
    {
      "cell_type": "code",
      "metadata": {
        "colab": {
          "base_uri": "https://localhost:8080/"
        },
        "id": "TWahGnKxBk3H",
        "outputId": "5f180600-4fe5-4aa1-b12a-406dbff6b79b"
      },
      "source": [
        "\n",
        "\n",
        "all_words_nsw = list(itertools.chain(*tweets_text))\n",
        "counts_nsw_nc = collections.Counter(all_words_nsw)\n",
        "counts_nsw_nc.most_common(15)\n"
      ],
      "execution_count": null,
      "outputs": [
        {
          "output_type": "execute_result",
          "data": {
            "text/plain": [
              "[('dólar', 38),\n",
              " ('r', 14),\n",
              " ('fecha', 10),\n",
              " ('cai', 8),\n",
              " ('queda', 7),\n",
              " ('exterior', 6),\n",
              " ('sobe', 6),\n",
              " ('vendido', 6),\n",
              " ('ouro', 5),\n",
              " ('rendimentos', 5),\n",
              " ('orçamento', 5),\n",
              " ('semana', 4),\n",
              " ('sobre', 4),\n",
              " ('alta', 4),\n",
              " ('acompanhe', 4)]"
            ]
          },
          "metadata": {
            "tags": []
          },
          "execution_count": 269
        }
      ]
    },
    {
      "cell_type": "markdown",
      "metadata": {
        "id": "rS3UzMNQQIA4"
      },
      "source": [
        "Carrega o dataset da cotação do dolar"
      ]
    },
    {
      "cell_type": "code",
      "metadata": {
        "colab": {
          "base_uri": "https://localhost:8080/"
        },
        "id": "KKbkAh776jf-",
        "outputId": "6d053da5-c48c-4a06-a1b0-45155b2bc661"
      },
      "source": [
        "df_dolar_real = pd.read_csv('/content/drive/MyDrive/ai/USD_BRL.csv')\n",
        "df_dolar_real['Data'] = pd.to_datetime(df_dolar_real['Data'], format='%d.%m.%Y')\n",
        "df_dolar_real.rename(columns = {\"Último\": \"Ultimo\"},inplace=True)\n",
        "df_dolar_real.rename(columns = {\"Var%\": \"Var\"},inplace=True)\n",
        "df_dolar_real.rename(columns = {\"Data\": \"date\"},inplace=True)\n",
        "# df_dolar_real['Ultimo'] = df_dolar_real['Ultimo'].astype(int)\n",
        "df_dolar_real = df_dolar_real.replace(',','.', regex=True)\n",
        "df_dolar_real = df_dolar_real.replace('%','', regex=True)\n",
        "df_dolar_real['Ultimo'] = pd.to_numeric(df_dolar_real['Ultimo'])\n",
        "df_dolar_real['Máxima'] = pd.to_numeric(df_dolar_real['Máxima'])\n",
        "df_dolar_real['Mínima'] = pd.to_numeric(df_dolar_real['Mínima'])\n",
        "print(df_dolar_real.head(10))\n"
      ],
      "execution_count": null,
      "outputs": [
        {
          "output_type": "stream",
          "text": [
            "        date  Ultimo Abertura  Máxima  Mínima    Var\n",
            "0 2021-03-24  5.6213   5.5223  5.6418  5.4899   1.81\n",
            "1 2021-03-23  5.5214   5.5045  5.5509  5.4640   0.31\n",
            "2 2021-03-22  5.5045   5.5087  5.5483  5.4936   0.23\n",
            "3 2021-03-19  5.4917   5.5609  5.5640  5.4482  -1.24\n",
            "4 2021-03-18  5.5604   5.5860  5.5860  5.4763  -0.44\n",
            "5 2021-03-17  5.5847   5.6236  5.6810  5.5695  -0.71\n",
            "6 2021-03-16  5.6248   5.6252  5.6319  5.5578   0.16\n",
            "7 2021-03-15  5.6156   5.5501  5.6568  5.5310   1.15\n",
            "8 2021-03-12  5.5518   5.5362  5.5873  5.5324   0.29\n",
            "9 2021-03-11  5.5357   5.6078  5.6215  5.5257  -2.41\n"
          ],
          "name": "stdout"
        }
      ]
    },
    {
      "cell_type": "markdown",
      "metadata": {
        "id": "e23d45FuQC24"
      },
      "source": [
        "Cria data frame com os tweers"
      ]
    },
    {
      "cell_type": "code",
      "metadata": {
        "colab": {
          "base_uri": "https://localhost:8080/"
        },
        "id": "fDMByVhV-Hxm",
        "outputId": "5a136d8c-d89b-4e74-8d85-0d0048d091cb"
      },
      "source": [
        "pddate = pd.DataFrame(twets_date)\n",
        "\n",
        "print(pddate.head(10))\n",
        "\n",
        "pdtwittertext = pd.DataFrame(counts_nsw_nc.most_common(15))\n",
        "\n",
        "print(pdtwittertext.head(10))\n",
        "\n",
        "\n"
      ],
      "execution_count": null,
      "outputs": [
        {
          "output_type": "stream",
          "text": [
            "                                                   0                   1\n",
            "0  dólar se aproxima de r570 com instabilidade em... 2021-04-09 21:40:02\n",
            "1  sem ajuda do exterior dólar volta a subir fort... 2021-04-09 21:20:33\n",
            "2  dólar sobe 181 hoje e fecha a r 5675 mas cai 0... 2021-04-09 20:37:29\n",
            "3     mitos e verdades sobre o marco legal do câmbio 2021-04-09 20:29:58\n",
            "4  ouro sobe 1 na semana após luta com rendimento... 2021-04-09 20:02:58\n",
            "5  dólar sobe com exterior e atento a xadrez polí... 2021-04-09 13:04:21\n",
            "6  dólar tem alta de 059 vendido a r 5607 acompanhe  2021-04-09 12:17:02\n",
            "7  dólar cai investidores repensam comércio de re... 2021-04-08 20:40:26\n",
            "8  dólar cai 123 e fecha a r 5574 menor valor em ... 2021-04-08 20:35:36\n",
            "9  ouro ultrapassa us 1750 mercado espera rendime... 2021-04-08 18:57:59\n",
            "             0   1\n",
            "0        dólar  38\n",
            "1            r  14\n",
            "2        fecha  10\n",
            "3          cai   8\n",
            "4        queda   7\n",
            "5     exterior   6\n",
            "6         sobe   6\n",
            "7      vendido   6\n",
            "8         ouro   5\n",
            "9  rendimentos   5\n"
          ],
          "name": "stdout"
        }
      ]
    },
    {
      "cell_type": "markdown",
      "metadata": {
        "id": "qHRCEPVcQSvb"
      },
      "source": [
        "Verifica o tfidf dos textos do twitter"
      ]
    },
    {
      "cell_type": "code",
      "metadata": {
        "colab": {
          "base_uri": "https://localhost:8080/",
          "height": 746
        },
        "id": "jpyJO6XGvtkT",
        "outputId": "64eca4cd-8272-4b88-af91-5ebe7c89808b"
      },
      "source": [
        "pd_text = pd.DataFrame(tweets_witout_url)\n",
        "pd_text.rename(columns = {0: \"texto\"},inplace=True)\n",
        "pd_text.rename(columns = {1: \"date\"},inplace=True)\n",
        "currDate = datetime.now()\n",
        "print(str(currDate))\n",
        "pd_text.to_csv ('/content/drive/MyDrive/ai/twitter/'+str(currDate)+'twitter.csv', index = False, header=True)\n",
        "pd_text['date'] = pd_text['date'].dt.normalize()\n",
        "print(pd_text.head(10))\n",
        "\n",
        "pd_text['pca'] = (\n",
        "   pd_text[\"texto\"]\n",
        "   .pipe(hero.clean)\n",
        "   .pipe(hero.tfidf)\n",
        "   .pipe(hero.pca)\n",
        ")\n",
        "# print(pd_text.head(10))\n",
        "# print(pd_text.head(10))\n",
        "\n",
        "\n",
        "\n",
        "hero.scatterplot(pd_text, 'pca', color='date', title=\"PCA BBC Sport news\")\n",
        "\n"
      ],
      "execution_count": null,
      "outputs": [
        {
          "output_type": "stream",
          "text": [
            "2021-04-11 18:41:57.676981\n",
            "                                               texto       date\n",
            "0  dólar se aproxima de r570 com instabilidade em... 2021-04-09\n",
            "1  sem ajuda do exterior dólar volta a subir fort... 2021-04-09\n",
            "2  dólar sobe 181 hoje e fecha a r 5675 mas cai 0... 2021-04-09\n",
            "3     mitos e verdades sobre o marco legal do câmbio 2021-04-09\n",
            "4  ouro sobe 1 na semana após luta com rendimento... 2021-04-09\n",
            "5  dólar sobe com exterior e atento a xadrez polí... 2021-04-09\n",
            "6  dólar tem alta de 059 vendido a r 5607 acompanhe  2021-04-09\n",
            "7  dólar cai investidores repensam comércio de re... 2021-04-08\n",
            "8  dólar cai 123 e fecha a r 5574 menor valor em ... 2021-04-08\n",
            "9  ouro ultrapassa us 1750 mercado espera rendime... 2021-04-08\n"
          ],
          "name": "stdout"
        },
        {
          "output_type": "display_data",
          "data": {
            "text/html": [
              "<html>\n",
              "<head><meta charset=\"utf-8\" /></head>\n",
              "<body>\n",
              "    <div>\n",
              "            <script src=\"https://cdnjs.cloudflare.com/ajax/libs/mathjax/2.7.5/MathJax.js?config=TeX-AMS-MML_SVG\"></script><script type=\"text/javascript\">if (window.MathJax) {MathJax.Hub.Config({SVG: {font: \"STIX-Web\"}});}</script>\n",
              "                <script type=\"text/javascript\">window.PlotlyConfig = {MathJaxConfig: 'local'};</script>\n",
              "        <script src=\"https://cdn.plot.ly/plotly-latest.min.js\"></script>    \n",
              "            <div id=\"cf48771d-4c5c-4ece-a6a8-f2dd24ed655b\" class=\"plotly-graph-div\" style=\"height:525px; width:100%;\"></div>\n",
              "            <script type=\"text/javascript\">\n",
              "                \n",
              "                    window.PLOTLYENV=window.PLOTLYENV || {};\n",
              "                    \n",
              "                if (document.getElementById(\"cf48771d-4c5c-4ece-a6a8-f2dd24ed655b\")) {\n",
              "                    Plotly.newPlot(\n",
              "                        'cf48771d-4c5c-4ece-a6a8-f2dd24ed655b',\n",
              "                        [{\"hoverlabel\": {\"namelength\": 0}, \"hovertemplate\": \"date=2021-04-09 00:00:00<br>x=%{x}<br>y=%{y}\", \"legendgroup\": \"date=2021-04-09 00:00:00\", \"marker\": {\"color\": \"#636efa\", \"symbol\": \"circle\"}, \"mode\": \"markers\", \"name\": \"date=2021-04-09 00:00:00\", \"showlegend\": true, \"type\": \"scatter\", \"x\": [-0.07578581834178984, -0.2098441669445507, -0.1792237265602675, -0.17757012966214067, -0.38417867686723634, -0.3033804304940733, 0.6482658133316572], \"xaxis\": \"x\", \"y\": [-0.04285384575118632, -0.11578571381628998, 0.19176390214267516, -0.12554041181354306, -0.36101123538638263, -0.08992692049513022, -0.21754229801028113], \"yaxis\": \"y\"}, {\"hoverlabel\": {\"namelength\": 0}, \"hovertemplate\": \"date=2021-04-08 00:00:00<br>x=%{x}<br>y=%{y}\", \"legendgroup\": \"date=2021-04-08 00:00:00\", \"marker\": {\"color\": \"#EF553B\", \"symbol\": \"circle\"}, \"mode\": \"markers\", \"name\": \"date=2021-04-08 00:00:00\", \"showlegend\": true, \"type\": \"scatter\", \"x\": [-0.0957765179009661, -0.03344601081195671, -0.2767073707963725, -0.022150560111859608, -0.229663056429358, 0.6564581109172404], \"xaxis\": \"x\", \"y\": [-0.08740891285414763, 0.3491685115162356, -0.41577690791804217, -0.014932051195205185, 0.12961362560798864, -0.1961533270141972], \"yaxis\": \"y\"}, {\"hoverlabel\": {\"namelength\": 0}, \"hovertemplate\": \"date=2021-04-07 00:00:00<br>x=%{x}<br>y=%{y}\", \"legendgroup\": \"date=2021-04-07 00:00:00\", \"marker\": {\"color\": \"#00cc96\", \"symbol\": \"circle\"}, \"mode\": \"markers\", \"name\": \"date=2021-04-07 00:00:00\", \"showlegend\": true, \"type\": \"scatter\", \"x\": [0.005440479917563486, -0.026262037730638066, 0.05907356749591153, 0.2722473746053548, 0.022717786877429116, 0.40528399341335053], \"xaxis\": \"x\", \"y\": [0.25664588786507053, -0.18935140648805257, -0.07549814612237508, 0.27542343423000426, -0.10215987610808702, -0.21708652429903388], \"yaxis\": \"y\"}, {\"hoverlabel\": {\"namelength\": 0}, \"hovertemplate\": \"date=2021-04-06 00:00:00<br>x=%{x}<br>y=%{y}\", \"legendgroup\": \"date=2021-04-06 00:00:00\", \"marker\": {\"color\": \"#ab63fa\", \"symbol\": \"circle\"}, \"mode\": \"markers\", \"name\": \"date=2021-04-06 00:00:00\", \"showlegend\": true, \"type\": \"scatter\", \"x\": [-0.16945500800460248, -0.20870162563040898, -0.2763588133949098, 0.0675246598515537, -0.27650282096197676, 0.5342231922983693], \"xaxis\": \"x\", \"y\": [-0.12159438935747015, 0.21996957326141076, -0.4240360111833766, 0.3122366525028898, 0.1159630827791897, -0.03273060678484439], \"yaxis\": \"y\"}, {\"hoverlabel\": {\"namelength\": 0}, \"hovertemplate\": \"date=2021-04-05 00:00:00<br>x=%{x}<br>y=%{y}\", \"legendgroup\": \"date=2021-04-05 00:00:00\", \"marker\": {\"color\": \"#FFA15A\", \"symbol\": \"circle\"}, \"mode\": \"markers\", \"name\": \"date=2021-04-05 00:00:00\", \"showlegend\": true, \"type\": \"scatter\", \"x\": [-0.07941119247074636, -0.042964135283752335, 0.04799798957503299, 0.4708029298134754, -0.12265379969933284], \"xaxis\": \"x\", \"y\": [0.4263464566569356, 0.39796739844263546, 0.4133056695850882, -0.07517923332613496, -0.18383637666634284], \"yaxis\": \"y\"}],\n",
              "                        {\"legend\": {\"tracegroupgap\": 0}, \"template\": {\"data\": {\"bar\": [{\"error_x\": {\"color\": \"#2a3f5f\"}, \"error_y\": {\"color\": \"#2a3f5f\"}, \"marker\": {\"line\": {\"color\": \"#E5ECF6\", \"width\": 0.5}}, \"type\": \"bar\"}], \"barpolar\": [{\"marker\": {\"line\": {\"color\": \"#E5ECF6\", \"width\": 0.5}}, \"type\": \"barpolar\"}], \"carpet\": [{\"aaxis\": {\"endlinecolor\": \"#2a3f5f\", \"gridcolor\": \"white\", \"linecolor\": \"white\", \"minorgridcolor\": \"white\", \"startlinecolor\": \"#2a3f5f\"}, \"baxis\": {\"endlinecolor\": \"#2a3f5f\", \"gridcolor\": \"white\", \"linecolor\": \"white\", \"minorgridcolor\": \"white\", \"startlinecolor\": \"#2a3f5f\"}, \"type\": \"carpet\"}], \"choropleth\": [{\"colorbar\": {\"outlinewidth\": 0, \"ticks\": \"\"}, \"type\": \"choropleth\"}], \"contour\": [{\"colorbar\": {\"outlinewidth\": 0, \"ticks\": \"\"}, \"colorscale\": [[0.0, \"#0d0887\"], [0.1111111111111111, \"#46039f\"], [0.2222222222222222, \"#7201a8\"], [0.3333333333333333, \"#9c179e\"], [0.4444444444444444, \"#bd3786\"], [0.5555555555555556, \"#d8576b\"], [0.6666666666666666, \"#ed7953\"], [0.7777777777777778, \"#fb9f3a\"], [0.8888888888888888, \"#fdca26\"], [1.0, \"#f0f921\"]], \"type\": \"contour\"}], \"contourcarpet\": [{\"colorbar\": {\"outlinewidth\": 0, \"ticks\": \"\"}, \"type\": \"contourcarpet\"}], \"heatmap\": [{\"colorbar\": {\"outlinewidth\": 0, \"ticks\": \"\"}, \"colorscale\": [[0.0, \"#0d0887\"], [0.1111111111111111, \"#46039f\"], [0.2222222222222222, \"#7201a8\"], [0.3333333333333333, \"#9c179e\"], [0.4444444444444444, \"#bd3786\"], [0.5555555555555556, \"#d8576b\"], [0.6666666666666666, \"#ed7953\"], [0.7777777777777778, \"#fb9f3a\"], [0.8888888888888888, \"#fdca26\"], [1.0, \"#f0f921\"]], \"type\": \"heatmap\"}], \"heatmapgl\": [{\"colorbar\": {\"outlinewidth\": 0, \"ticks\": \"\"}, \"colorscale\": [[0.0, \"#0d0887\"], [0.1111111111111111, \"#46039f\"], [0.2222222222222222, \"#7201a8\"], [0.3333333333333333, \"#9c179e\"], [0.4444444444444444, \"#bd3786\"], [0.5555555555555556, \"#d8576b\"], [0.6666666666666666, \"#ed7953\"], [0.7777777777777778, \"#fb9f3a\"], [0.8888888888888888, \"#fdca26\"], [1.0, \"#f0f921\"]], \"type\": \"heatmapgl\"}], \"histogram\": [{\"marker\": {\"colorbar\": {\"outlinewidth\": 0, \"ticks\": \"\"}}, \"type\": \"histogram\"}], \"histogram2d\": [{\"colorbar\": {\"outlinewidth\": 0, \"ticks\": \"\"}, \"colorscale\": [[0.0, \"#0d0887\"], [0.1111111111111111, \"#46039f\"], [0.2222222222222222, \"#7201a8\"], [0.3333333333333333, \"#9c179e\"], [0.4444444444444444, \"#bd3786\"], [0.5555555555555556, \"#d8576b\"], [0.6666666666666666, \"#ed7953\"], [0.7777777777777778, \"#fb9f3a\"], [0.8888888888888888, \"#fdca26\"], [1.0, \"#f0f921\"]], \"type\": \"histogram2d\"}], \"histogram2dcontour\": [{\"colorbar\": {\"outlinewidth\": 0, \"ticks\": \"\"}, \"colorscale\": [[0.0, \"#0d0887\"], [0.1111111111111111, \"#46039f\"], [0.2222222222222222, \"#7201a8\"], [0.3333333333333333, \"#9c179e\"], [0.4444444444444444, \"#bd3786\"], [0.5555555555555556, \"#d8576b\"], [0.6666666666666666, \"#ed7953\"], [0.7777777777777778, \"#fb9f3a\"], [0.8888888888888888, \"#fdca26\"], [1.0, \"#f0f921\"]], \"type\": \"histogram2dcontour\"}], \"mesh3d\": [{\"colorbar\": {\"outlinewidth\": 0, \"ticks\": \"\"}, \"type\": \"mesh3d\"}], \"parcoords\": [{\"line\": {\"colorbar\": {\"outlinewidth\": 0, \"ticks\": \"\"}}, \"type\": \"parcoords\"}], \"pie\": [{\"automargin\": true, \"type\": \"pie\"}], \"scatter\": [{\"marker\": {\"colorbar\": {\"outlinewidth\": 0, \"ticks\": \"\"}}, \"type\": \"scatter\"}], \"scatter3d\": [{\"line\": {\"colorbar\": {\"outlinewidth\": 0, \"ticks\": \"\"}}, \"marker\": {\"colorbar\": {\"outlinewidth\": 0, \"ticks\": \"\"}}, \"type\": \"scatter3d\"}], \"scattercarpet\": [{\"marker\": {\"colorbar\": {\"outlinewidth\": 0, \"ticks\": \"\"}}, \"type\": \"scattercarpet\"}], \"scattergeo\": [{\"marker\": {\"colorbar\": {\"outlinewidth\": 0, \"ticks\": \"\"}}, \"type\": \"scattergeo\"}], \"scattergl\": [{\"marker\": {\"colorbar\": {\"outlinewidth\": 0, \"ticks\": \"\"}}, \"type\": \"scattergl\"}], \"scattermapbox\": [{\"marker\": {\"colorbar\": {\"outlinewidth\": 0, \"ticks\": \"\"}}, \"type\": \"scattermapbox\"}], \"scatterpolar\": [{\"marker\": {\"colorbar\": {\"outlinewidth\": 0, \"ticks\": \"\"}}, \"type\": \"scatterpolar\"}], \"scatterpolargl\": [{\"marker\": {\"colorbar\": {\"outlinewidth\": 0, \"ticks\": \"\"}}, \"type\": \"scatterpolargl\"}], \"scatterternary\": [{\"marker\": {\"colorbar\": {\"outlinewidth\": 0, \"ticks\": \"\"}}, \"type\": \"scatterternary\"}], \"surface\": [{\"colorbar\": {\"outlinewidth\": 0, \"ticks\": \"\"}, \"colorscale\": [[0.0, \"#0d0887\"], [0.1111111111111111, \"#46039f\"], [0.2222222222222222, \"#7201a8\"], [0.3333333333333333, \"#9c179e\"], [0.4444444444444444, \"#bd3786\"], [0.5555555555555556, \"#d8576b\"], [0.6666666666666666, \"#ed7953\"], [0.7777777777777778, \"#fb9f3a\"], [0.8888888888888888, \"#fdca26\"], [1.0, \"#f0f921\"]], \"type\": \"surface\"}], \"table\": [{\"cells\": {\"fill\": {\"color\": \"#EBF0F8\"}, \"line\": {\"color\": \"white\"}}, \"header\": {\"fill\": {\"color\": \"#C8D4E3\"}, \"line\": {\"color\": \"white\"}}, \"type\": \"table\"}]}, \"layout\": {\"annotationdefaults\": {\"arrowcolor\": \"#2a3f5f\", \"arrowhead\": 0, \"arrowwidth\": 1}, \"coloraxis\": {\"colorbar\": {\"outlinewidth\": 0, \"ticks\": \"\"}}, \"colorscale\": {\"diverging\": [[0, \"#8e0152\"], [0.1, \"#c51b7d\"], [0.2, \"#de77ae\"], [0.3, \"#f1b6da\"], [0.4, \"#fde0ef\"], [0.5, \"#f7f7f7\"], [0.6, \"#e6f5d0\"], [0.7, \"#b8e186\"], [0.8, \"#7fbc41\"], [0.9, \"#4d9221\"], [1, \"#276419\"]], \"sequential\": [[0.0, \"#0d0887\"], [0.1111111111111111, \"#46039f\"], [0.2222222222222222, \"#7201a8\"], [0.3333333333333333, \"#9c179e\"], [0.4444444444444444, \"#bd3786\"], [0.5555555555555556, \"#d8576b\"], [0.6666666666666666, \"#ed7953\"], [0.7777777777777778, \"#fb9f3a\"], [0.8888888888888888, \"#fdca26\"], [1.0, \"#f0f921\"]], \"sequentialminus\": [[0.0, \"#0d0887\"], [0.1111111111111111, \"#46039f\"], [0.2222222222222222, \"#7201a8\"], [0.3333333333333333, \"#9c179e\"], [0.4444444444444444, \"#bd3786\"], [0.5555555555555556, \"#d8576b\"], [0.6666666666666666, \"#ed7953\"], [0.7777777777777778, \"#fb9f3a\"], [0.8888888888888888, \"#fdca26\"], [1.0, \"#f0f921\"]]}, \"colorway\": [\"#636efa\", \"#EF553B\", \"#00cc96\", \"#ab63fa\", \"#FFA15A\", \"#19d3f3\", \"#FF6692\", \"#B6E880\", \"#FF97FF\", \"#FECB52\"], \"font\": {\"color\": \"#2a3f5f\"}, \"geo\": {\"bgcolor\": \"white\", \"lakecolor\": \"white\", \"landcolor\": \"#E5ECF6\", \"showlakes\": true, \"showland\": true, \"subunitcolor\": \"white\"}, \"hoverlabel\": {\"align\": \"left\"}, \"hovermode\": \"closest\", \"mapbox\": {\"style\": \"light\"}, \"paper_bgcolor\": \"white\", \"plot_bgcolor\": \"#E5ECF6\", \"polar\": {\"angularaxis\": {\"gridcolor\": \"white\", \"linecolor\": \"white\", \"ticks\": \"\"}, \"bgcolor\": \"#E5ECF6\", \"radialaxis\": {\"gridcolor\": \"white\", \"linecolor\": \"white\", \"ticks\": \"\"}}, \"scene\": {\"xaxis\": {\"backgroundcolor\": \"#E5ECF6\", \"gridcolor\": \"white\", \"gridwidth\": 2, \"linecolor\": \"white\", \"showbackground\": true, \"ticks\": \"\", \"zerolinecolor\": \"white\"}, \"yaxis\": {\"backgroundcolor\": \"#E5ECF6\", \"gridcolor\": \"white\", \"gridwidth\": 2, \"linecolor\": \"white\", \"showbackground\": true, \"ticks\": \"\", \"zerolinecolor\": \"white\"}, \"zaxis\": {\"backgroundcolor\": \"#E5ECF6\", \"gridcolor\": \"white\", \"gridwidth\": 2, \"linecolor\": \"white\", \"showbackground\": true, \"ticks\": \"\", \"zerolinecolor\": \"white\"}}, \"shapedefaults\": {\"line\": {\"color\": \"#2a3f5f\"}}, \"ternary\": {\"aaxis\": {\"gridcolor\": \"white\", \"linecolor\": \"white\", \"ticks\": \"\"}, \"baxis\": {\"gridcolor\": \"white\", \"linecolor\": \"white\", \"ticks\": \"\"}, \"bgcolor\": \"#E5ECF6\", \"caxis\": {\"gridcolor\": \"white\", \"linecolor\": \"white\", \"ticks\": \"\"}}, \"title\": {\"x\": 0.05}, \"xaxis\": {\"automargin\": true, \"gridcolor\": \"white\", \"linecolor\": \"white\", \"ticks\": \"\", \"title\": {\"standoff\": 15}, \"zerolinecolor\": \"white\", \"zerolinewidth\": 2}, \"yaxis\": {\"automargin\": true, \"gridcolor\": \"white\", \"linecolor\": \"white\", \"ticks\": \"\", \"title\": {\"standoff\": 15}, \"zerolinecolor\": \"white\", \"zerolinewidth\": 2}}}, \"title\": {\"text\": \"PCA BBC Sport news\"}, \"xaxis\": {\"anchor\": \"y\", \"domain\": [0.0, 1.0], \"title\": {\"text\": \"x\"}}, \"yaxis\": {\"anchor\": \"x\", \"domain\": [0.0, 1.0], \"title\": {\"text\": \"y\"}}},\n",
              "                        {\"responsive\": true}\n",
              "                    ).then(function(){\n",
              "                            \n",
              "var gd = document.getElementById('cf48771d-4c5c-4ece-a6a8-f2dd24ed655b');\n",
              "var x = new MutationObserver(function (mutations, observer) {{\n",
              "        var display = window.getComputedStyle(gd).display;\n",
              "        if (!display || display === 'none') {{\n",
              "            console.log([gd, 'removed!']);\n",
              "            Plotly.purge(gd);\n",
              "            observer.disconnect();\n",
              "        }}\n",
              "}});\n",
              "\n",
              "// Listen for the removal of the full notebook cells\n",
              "var notebookContainer = gd.closest('#notebook-container');\n",
              "if (notebookContainer) {{\n",
              "    x.observe(notebookContainer, {childList: true});\n",
              "}}\n",
              "\n",
              "// Listen for the clearing of the current output cell\n",
              "var outputEl = gd.closest('.output');\n",
              "if (outputEl) {{\n",
              "    x.observe(outputEl, {childList: true});\n",
              "}}\n",
              "\n",
              "                        })\n",
              "                };\n",
              "                \n",
              "            </script>\n",
              "        </div>\n",
              "</body>\n",
              "</html>"
            ]
          },
          "metadata": {
            "tags": []
          }
        }
      ]
    },
    {
      "cell_type": "markdown",
      "metadata": {
        "id": "M6Qek8AkQQxo"
      },
      "source": [
        "Remove o stopwords do twitter"
      ]
    },
    {
      "cell_type": "code",
      "metadata": {
        "id": "VgStmKnWo1Th"
      },
      "source": [
        ""
      ],
      "execution_count": null,
      "outputs": []
    },
    {
      "cell_type": "code",
      "metadata": {
        "id": "j92HCi5yKS2w",
        "colab": {
          "base_uri": "https://localhost:8080/"
        },
        "outputId": "deee79b2-9283-4ba8-9db2-4ee0946450ff"
      },
      "source": [
        "pd_text['texto'] = hero.remove_stopwords(pd_text['texto'], stopwords)\n",
        "print(pd_text.head(10))\n"
      ],
      "execution_count": null,
      "outputs": [
        {
          "output_type": "stream",
          "text": [
            "                                               texto  ...                                           pca\n",
            "0   dólar  aproxima  r570  instabilidade  brasília    ...  [-0.07578581834178984, -0.04285384575118632]\n",
            "1   ajuda  exterior dólar volta  subir forte  pio...  ...   [-0.2098441669445507, -0.11578571381628998]\n",
            "2  dólar sobe 181 hoje  fecha  r 5675  cai 071  s...  ...    [-0.1792237265602675, 0.19176390214267516]\n",
            "3         mitos  verdades sobre  marco legal  câmbio  ...  [-0.17757012966214067, -0.12554041181354306]\n",
            "4  ouro sobe 1  semana após luta  rendimentos  eu...  ...  [-0.38417867686723634, -0.36101123538638263]\n",
            "5  dólar sobe  exterior  atento  xadrez político ...  ...   [-0.3033804304940733, -0.08992692049513022]\n",
            "6        dólar  alta  059 vendido  r 5607 acompanhe   ...    [0.6482658133316572, -0.21754229801028113]\n",
            "7  dólar cai investidores repensam comércio  refl...  ...   [-0.0957765179009661, -0.08740891285414763]\n",
            "8  dólar cai 123  fecha  r 5574 menor valor  duas...  ...    [-0.03344601081195671, 0.3491685115162356]\n",
            "9  ouro ultrapassa us 1750 mercado espera rendime...  ...   [-0.2767073707963725, -0.41577690791804217]\n",
            "\n",
            "[10 rows x 3 columns]\n"
          ],
          "name": "stdout"
        }
      ]
    },
    {
      "cell_type": "code",
      "metadata": {
        "id": "vOdPkrMLL8YN",
        "colab": {
          "base_uri": "https://localhost:8080/"
        },
        "outputId": "a59ff3ad-08d3-4083-b24f-ad3b7de76bb0"
      },
      "source": [
        "pd_merge = pd_text[['texto', 'date']].merge(df_dolar_real[['Var', 'date']], on='date')\n",
        "print(pd_merge)\n",
        "\n"
      ],
      "execution_count": null,
      "outputs": [
        {
          "output_type": "stream",
          "text": [
            "Empty DataFrame\n",
            "Columns: [texto, date, Var]\n",
            "Index: []\n"
          ],
          "name": "stdout"
        }
      ]
    },
    {
      "cell_type": "code",
      "metadata": {
        "id": "vuYp_rzWQgS7"
      },
      "source": [
        ""
      ],
      "execution_count": null,
      "outputs": []
    },
    {
      "cell_type": "markdown",
      "metadata": {
        "id": "1bx9ciDgQguz"
      },
      "source": [
        "Adiciona coluna var_dolar no pandas de merge do dolar com tweet"
      ]
    },
    {
      "cell_type": "code",
      "metadata": {
        "id": "u26bEVbTQsOL"
      },
      "source": [
        "import numpy as np\n",
        "\n",
        "def var_dolar(fvar):\n",
        "  ivar = 0\n",
        "  ivar = float(fvar['Var'])\n",
        "  if ivar>0:\n",
        "    return 0\n",
        "  else:\n",
        "    return 1\n",
        "\n",
        "# var_dolar(-2)\n",
        "if(pd_merge.size >0 ) :\n",
        "  pd_merge['var-dolar'] = pd_merge.apply(var_dolar, axis=1)\n",
        "\n",
        "\n"
      ],
      "execution_count": null,
      "outputs": []
    },
    {
      "cell_type": "code",
      "metadata": {
        "id": "9vIGNGEIUDju",
        "colab": {
          "base_uri": "https://localhost:8080/"
        },
        "outputId": "ab430d58-5b2e-4761-8901-d3147c3a3809"
      },
      "source": [
        ""
      ],
      "execution_count": null,
      "outputs": [
        {
          "output_type": "execute_result",
          "data": {
            "text/plain": [
              "-1.24"
            ]
          },
          "metadata": {
            "tags": []
          },
          "execution_count": 276
        }
      ]
    },
    {
      "cell_type": "code",
      "metadata": {
        "id": "DqKfBLmXPYDi"
      },
      "source": [
        "# pd_merge.groupby('var-dolar')['texto'].apply(lambda x: hero.top_words(x)[:NUM_TOP_WORDS])"
      ],
      "execution_count": null,
      "outputs": []
    },
    {
      "cell_type": "markdown",
      "metadata": {
        "id": "aCwmzrFKQuXc"
      },
      "source": [
        "Retira os stopwords do texto quando estive tweets com o dia de hj"
      ]
    },
    {
      "cell_type": "code",
      "metadata": {
        "id": "RDBos62UO6qZ"
      },
      "source": [
        "if pd_merge.size >0 :\n",
        "  pd_merge['pca'] = (\n",
        "              pd_merge['texto']\n",
        "              .pipe(hero.clean)\n",
        "              .pipe(hero.tfidf)\n",
        "              .pipe(hero.pca)\n",
        "    )\n",
        "  NUM_TOP_WORDS = 5\n",
        "  pd_merge.groupby('var-dolar')['texto'].apply(lambda x: hero.top_words(x)[:NUM_TOP_WORDS])"
      ],
      "execution_count": null,
      "outputs": []
    },
    {
      "cell_type": "markdown",
      "metadata": {
        "id": "Y-zqSRLQRYAN"
      },
      "source": [
        "Coleta as noticias do mediastack"
      ]
    },
    {
      "cell_type": "code",
      "metadata": {
        "id": "2fsQS0zWjf_r",
        "colab": {
          "base_uri": "https://localhost:8080/"
        },
        "outputId": "947a9cf7-00bf-4af9-a021-fcbf774515fa"
      },
      "source": [
        " # Python 3\n",
        "import http.client, urllib.parse\n",
        "data_news = '2021-02-01,2021-03-23'\n",
        "keyword = 'dolar'\n",
        "conn = http.client.HTTPConnection('api.mediastack.com')\n",
        "\n",
        "params = urllib.parse.urlencode({\n",
        "    'access_key': '<chave de acesso> ',\n",
        "    'categories': 'business',\n",
        "    'countries': 'br',\n",
        "    'limit': 100,\n",
        "    # 'offset': 100,\n",
        "    'keywords': keyword,\n",
        "    'date': data_news\n",
        "    })\n",
        "print('/v1/news?{}'.format(params))\n",
        "conn.request('GET', '/v1/news?{}'.format(params))\n",
        "\n",
        "res = conn.getresponse()\n",
        "data = res.read()\n",
        "\n",
        "print(data.decode('utf-8'))\n",
        "\n",
        "news_mediastack = data.decode('utf-8')\n",
        "\n",
        "\n"
      ],
      "execution_count": null,
      "outputs": [
        {
          "output_type": "stream",
          "text": [
            "/v1/news?access_key=78b14df1ceb6edd373e6045025d2cfec&categories=business&countries=br&limit=100&keywords=dolar&date=2021-02-01%2C2021-03-23\n",
            "{\"pagination\":{\"limit\":100,\"offset\":0,\"count\":86,\"total\":86},\"data\":[{\"author\":null,\"title\":\"D\\u00f3lar\",\"description\":\"Na quinta-feira (25), moeda norte-americana fechou em alta de 1,70%, a R$ 5,5129. Notas de d\\u00f3larGary Cameron\\/ReutersO d\\u00f3lar abriu em alta nesta sexta-feira (26), ap\\u00f3s ter voltado a fechar na v\\u00e9spera acima de R$ 5,50.\\u00c0s 9h10, a moeda norte-americana subia 0,42%, cotada a R$ 5,5363. Veja mais cota\\u00e7\\u00f5es. Na quinta-feira, o d\\u00f3lar fechou em alta de 1,7%, a R$ 5,5129, no maior patamar de fechamento desde 5 de novembro (R$ 5,5429), mesmo ap\\u00f3s interven\\u00e7\\u00e3o do Banco Central. Na parcial do m\\u00eas, passou a acumular alta de 0,98%. No ano, tem valoriza\\u00e7\\u00e3o de 6,28% ante o real. Por que a moeda...\",\"url\":\"https:\\/\\/g1.globo.com\\/economia\\/noticia\\/2021\\/02\\/26\\/dolar.ghtml\",\"source\":\"G1 - Economia\",\"image\":\"https:\\/\\/s2.glbimg.com\\/mwpwBWs8149TUS_xgsMaBoKsSiU=\\/i.s3.glbimg.com\\/v1\\/AUTH_59edd422c0c84a879bd37670ae4f538a\\/internal_photos\\/bs\\/2018\\/A\\/v\\/h4ku5DS5ap1fGCV2OPtQ\\/dolar2.jpg\",\"category\":\"business\",\"language\":\"pt\",\"country\":\"br\",\"published_at\":\"2021-02-26T12:10:31+00:00\"},{\"author\":\"Bloomberg\",\"title\":\"Iniciativa de d\\u00f3lar digital do Fed preocupa Wall Street\",\"description\":\"Bancos, empresas de cart\\u00e3o de cr\\u00e9dito e processadores de pagamentos observam com nervosismo a iniciativa de criar uma alternativa eletr\\u00f4nica para o d\\u00f3larThe post Iniciativa de d\\u00f3lar digital do Fed preocupa Wall Street appeared first on InfoMoney.\",\"url\":\"https:\\/\\/www.infomoney.com.br\\/mercados\\/iniciativa-de-dolar-digital-do-fed-preocupa-wall-street\\/\",\"source\":\"InfoMoney\",\"image\":null,\"category\":\"business\",\"language\":\"pt\",\"country\":\"br\",\"published_at\":\"2021-03-22T19:58:25+00:00\"},{\"author\":\"Bloomberg\",\"title\":\"Mercado diz que s\\u00f3 aumento agressivo da Selic pode segurar d\\u00f3lar\",\"description\":\"Operadores de c\\u00e2mbio dizem que seria necess\\u00e1rio uma eleva\\u00e7\\u00e3o de um ponto percentual para conseguir impulsionar o realThe post Mercado diz que s\\u00f3 aumento agressivo da Selic pode segurar d\\u00f3lar appeared first on InfoMoney.\",\"url\":\"https:\\/\\/www.infomoney.com.br\\/onde-investir\\/mercado-diz-que-so-aumento-agressivo-da-selic-pode-segurar-dolar\\/\",\"source\":\"InfoMoney\",\"image\":null,\"category\":\"business\",\"language\":\"pt\",\"country\":\"br\",\"published_at\":\"2021-03-15T15:02:51+00:00\"},{\"author\":\"Ricardo Bonfim\",\"title\":\"Ibovespa fecha em queda de 0,7% antes de \\u201cSuper Quarta\\u201d; d\\u00f3lar cai a R$ 5,61\",\"description\":\"Mercado registrou perdas em um preg\\u00e3o que foi teve muita ansiedade por decis\\u00f5es de pol\\u00edtica monet\\u00e1riaThe post Ibovespa fecha em queda de 0,7% antes de \\u0026#8220;Super Quarta\\u0026#8221;; d\\u00f3lar cai a R$ 5,61 appeared first on InfoMoney.\",\"url\":\"https:\\/\\/www.infomoney.com.br\\/mercados\\/ibovespa-fecha-em-queda-de-07-antes-de-super-quarta-dolar-cai-a-r-561\\/\",\"source\":\"InfoMoney\",\"image\":null,\"category\":\"business\",\"language\":\"pt\",\"country\":\"br\",\"published_at\":\"2021-03-16T20:31:12+00:00\"},{\"author\":\"Ricardo Bonfim\",\"title\":\"Ibovespa cai com expectativa por informa\\u00e7\\u00f5es sobre novo aux\\u00edlio antes do Carnaval; d\\u00f3lar zera ganhos\",\"description\":\"Mercado registra perdas depois do otimismo da v\\u00e9spera enquanto os ru\\u00eddos fiscais seguem na pautaThe post Ibovespa cai com expectativa por informa\\u00e7\\u00f5es sobre novo aux\\u00edlio antes do Carnaval; d\\u00f3lar zera ganhos appeared first on InfoMoney.\",\"url\":\"https:\\/\\/www.infomoney.com.br\\/mercados\\/ibovespa-cai-com-expectativa-por-informacoes-sobre-novo-auxilio-antes-do-carnaval-dolar-zera-ganhos\\/\",\"source\":\"InfoMoney\",\"image\":null,\"category\":\"business\",\"language\":\"pt\",\"country\":\"br\",\"published_at\":\"2021-02-12T13:19:16+00:00\"},{\"author\":\"Bloomberg\",\"title\":\"Oi aumenta incentivo financeiro a detentores de t\\u00edtulos em d\\u00f3lar para novos empr\\u00e9stimos\",\"description\":\"A Oi elevou a oferta de US$ 5 por cada US$ 1.000 em notas para US$ 10, de acordo com informa\\u00e7\\u00f5es obtidas pela BloombergThe post Oi aumenta incentivo financeiro a detentores de t\\u00edtulos em d\\u00f3lar para novos empr\\u00e9stimos appeared first on InfoMoney.\",\"url\":\"https:\\/\\/www.infomoney.com.br\\/mercados\\/oi-aumenta-incentivo-financeiro-a-detentores-de-titulos-em-dolar-para-novos-emprestimos\\/\",\"source\":\"InfoMoney\",\"image\":null,\"category\":\"business\",\"language\":\"pt\",\"country\":\"br\",\"published_at\":\"2021-03-23T20:50:53+00:00\"},{\"author\":\"Reuters\",\"title\":\"D\\u00f3lar tem maior s\\u00e9rie de baixas desde novembro em semana marcada por Copom e Fed\",\"description\":\"O real revezou com a lira turca o posto de moeda com melhor desempenho global nesta sess\\u00e3o, depois das decis\\u00f5es de juros nos dois pa\\u00edsesThe post D\\u00f3lar tem maior s\\u00e9rie de baixas desde novembro em semana marcada por Copom e Fed appeared first on InfoMoney.\",\"url\":\"https:\\/\\/www.infomoney.com.br\\/mercados\\/dolar-tem-maior-serie-de-baixas-desde-novembro-em-semana-marcada-por-copom-e-fed\\/\",\"source\":\"InfoMoney\",\"image\":null,\"category\":\"business\",\"language\":\"pt\",\"country\":\"br\",\"published_at\":\"2021-03-19T23:00:36+00:00\"},{\"author\":\"Beatriz Cutait\",\"title\":\"N\\u00e3o aposte contra o d\\u00f3lar, mas reforce a exposi\\u00e7\\u00e3o global de sua carteira: confira as recomenda\\u00e7\\u00f5es de gestores\",\"description\":\"Apesar de alta de juros no Brasil, gestores de patrim\\u00f4nio sugerem cautela com apostas direcionais no c\\u00e2mbio, mas refor\\u00e7am o valor da diversifica\\u00e7\\u00e3oThe post N\\u00e3o aposte contra o d\\u00f3lar, mas reforce a exposi\\u00e7\\u00e3o global de sua carteira: confira as recomenda\\u00e7\\u00f5es de gestores appeared first on InfoMoney.\",\"url\":\"https:\\/\\/www.infomoney.com.br\\/onde-investir\\/sem-apostas-contra-o-dolar-porem-com-reforco-na-exposicao-global-confira-as-recomendacoes-de-gestores\\/\",\"source\":\"InfoMoney\",\"image\":null,\"category\":\"business\",\"language\":\"pt\",\"country\":\"br\",\"published_at\":\"2021-03-22T18:14:00+00:00\"},{\"author\":\"Estad\\u00e3o Conte\\u00fado\",\"title\":\"Petr\\u00f3leo \\u00e9 commodity, cobrada em d\\u00f3lar e n\\u00e3o h\\u00e1 como fugir, diz Castello Branco\",\"description\":\"Presidente da Petrobras defendeu novamente a pol\\u00edtica de pre\\u00e7os de combust\\u00edveis da estatalThe post Petr\\u00f3leo \\u00e9 commodity, cobrada em d\\u00f3lar e n\\u00e3o h\\u00e1 como fugir, diz Castello Branco appeared first on InfoMoney.\",\"url\":\"https:\\/\\/www.infomoney.com.br\\/mercados\\/petroleo-e-commodity-cobrada-em-dolar-e-nao-ha-como-fugir-diz-castello-branco\\/\",\"source\":\"InfoMoney\",\"image\":null,\"category\":\"business\",\"language\":\"pt\",\"country\":\"br\",\"published_at\":\"2021-02-25T15:20:00+00:00\"},{\"author\":\"Ricardo Bonfim\",\"title\":\"Ibovespa cai com investidores cautelosos antes de decis\\u00f5es de Copom e Fomc; d\\u00f3lar sobe a R$ 5,66\",\"description\":\"Mercado registra perdas em dia de muita aten\\u00e7\\u00e3o a pol\\u00edtica monet\\u00e1ria enquanto yields dos treasuries disparamThe post Ibovespa cai com investidores cautelosos antes de decis\\u00f5es de Copom e Fomc; d\\u00f3lar sobe a R$ 5,66 appeared first on InfoMoney.\",\"url\":\"https:\\/\\/www.infomoney.com.br\\/mercados\\/ibovespa-cai-com-investidores-cautelosos-antes-de-decisoes-de-copom-e-fomc-dolar-sobe-a-r-566\\/\",\"source\":\"InfoMoney\",\"image\":null,\"category\":\"business\",\"language\":\"pt\",\"country\":\"br\",\"published_at\":\"2021-03-17T13:14:00+00:00\"},{\"author\":\"Ricardo Bonfim\",\"title\":\"Ibovespa fecha em queda pressionado por exterior; d\\u00f3lar cai a R$ 5,57 repercutindo Copom\",\"description\":\"Mercado encerra sess\\u00e3o com perdas devido ao sell-off que tomou conta das bolsas nos EUAThe post Ibovespa fecha em queda pressionado por exterior; d\\u00f3lar cai a R$ 5,57 repercutindo Copom appeared first on InfoMoney.\",\"url\":\"https:\\/\\/www.infomoney.com.br\\/mercados\\/ibovespa-fecha-em-queda-pressionado-por-exterior-dolar-cai-a-r-557-repercutindo-copom\\/\",\"source\":\"InfoMoney\",\"image\":null,\"category\":\"business\",\"language\":\"pt\",\"country\":\"br\",\"published_at\":\"2021-03-18T20:21:45+00:00\"},{\"author\":\"rodrigoumpieres\",\"title\":\"Ibovespa opera pr\\u00f3ximo da estabilidade entre resultados e indicadores nos EUA; d\\u00f3lar sobe a R$ 5,44\",\"description\":\"\\u00cdndice abriu em alta, mas sem muita for\\u00e7a enquanto investidores digerem bateria de resultados e ficam de olho a dados nos Estados UnidosThe post Ibovespa opera pr\\u00f3ximo da estabilidade entre resultados e indicadores nos EUA; d\\u00f3lar sobe a R$ 5,44 appeared first on InfoMoney.\",\"url\":\"https:\\/\\/www.infomoney.com.br\\/mercados\\/ibovespa-opera-proximo-da-estabilidade-entre-resultados-e-indicadores-nos-eua-dolar-sobe-a-r-544\\/\",\"source\":\"InfoMoney\",\"image\":null,\"category\":\"business\",\"language\":\"pt\",\"country\":\"br\",\"published_at\":\"2021-02-25T13:18:29+00:00\"},{\"author\":\"Reuters\",\"title\":\"D\\u00f3lar futuro supera R$ 5,85 ap\\u00f3s choque do mercado com decis\\u00e3o de Fachin sobre Lula\",\"description\":\"Nas opera\\u00e7\\u00f5es interbanc\\u00e1rias, o d\\u00f3lar fechou em alta de 1,66%, a R$ 5,7787 na venda - maior n\\u00edvel desde 15 de maio do ano passado (R$ 5,8392)The post D\\u00f3lar futuro supera R$ 5,85 ap\\u00f3s choque do mercado com decis\\u00e3o de Fachin sobre Lula appeared first on InfoMoney.\",\"url\":\"https:\\/\\/www.infomoney.com.br\\/mercados\\/dolar-futuro-supera-r-585-apos-choque-do-mercado-com-decisao-de-fachin-sobre-lula\\/\",\"source\":\"InfoMoney\",\"image\":null,\"category\":\"business\",\"language\":\"pt\",\"country\":\"br\",\"published_at\":\"2021-03-08T21:15:41+00:00\"},{\"author\":\"Ricardo Bonfim\",\"title\":\"Ibovespa sobe puxado por Vale e bancos em meio a notici\\u00e1rio corporativo; d\\u00f3lar tem leve baixa\",\"description\":\"Mercado registra desempenho err\\u00e1tico ap\\u00f3s tr\\u00eas sess\\u00f5es seguidas de expressiva alta\\nThe post Ibovespa sobe puxado por Vale e bancos em meio a notici\\u00e1rio corporativo; d\\u00f3lar tem leve baixa appeared first on InfoMoney.\",\"url\":\"https:\\/\\/www.infomoney.com.br\\/mercados\\/ibovespa-sobe-puxado-por-vale-e-bancos-em-meio-a-noticiario-corporativo-dolar-tem-leve-baixa\\/\",\"source\":\"InfoMoney\",\"image\":null,\"category\":\"business\",\"language\":\"pt\",\"country\":\"br\",\"published_at\":\"2021-02-04T13:17:00+00:00\"},{\"author\":\"Ricardo Bonfim\",\"title\":\"Ibovespa sobe puxado por Vale e bancos em meio a notici\\u00e1rio corporativo; d\\u00f3lar tem leve baixa\",\"description\":\"Mercado registra desempenho err\\u00e1tico ap\\u00f3s tr\\u00eas sess\\u00f5es seguidas de expressiva alta\\nThe post Ibovespa sobe puxado por Vale e bancos em meio a notici\\u00e1rio corporativo; d\\u00f3lar tem leve baixa appeared first on InfoMoney.\",\"url\":\"https:\\/\\/www.infomoney.com.br\\/mercados\\/ibovespa-sobe-puxado-por-vale-e-bancos-em-meio-a-noticiario-corporativo-dolar-tem-leve-baixa\\/\",\"source\":\"InfoMoney\",\"image\":null,\"category\":\"business\",\"language\":\"pt\",\"country\":\"br\",\"published_at\":\"2021-02-04T13:17:00+00:00\"},{\"author\":\"Ricardo Bonfim\",\"title\":\"Ibovespa sobe puxado por Vale e bancos em meio a notici\\u00e1rio corporativo; d\\u00f3lar tem leve baixa\",\"description\":\"Mercado registra desempenho err\\u00e1tico ap\\u00f3s tr\\u00eas sess\\u00f5es seguidas de expressiva alta\\nThe post Ibovespa sobe puxado por Vale e bancos em meio a notici\\u00e1rio corporativo; d\\u00f3lar tem leve baixa appeared first on InfoMoney.\",\"url\":\"https:\\/\\/www.infomoney.com.br\\/mercados\\/ibovespa-sobe-puxado-por-vale-e-bancos-em-meio-a-noticiario-corporativo-dolar-tem-leve-baixa\\/\",\"source\":\"InfoMoney\",\"image\":null,\"category\":\"business\",\"language\":\"pt\",\"country\":\"br\",\"published_at\":\"2021-02-04T13:17:00+00:00\"},{\"author\":\"Ricardo Bonfim\",\"title\":\"Ibovespa sobe puxado por Vale e bancos em meio a notici\\u00e1rio corporativo; d\\u00f3lar tem leve baixa\",\"description\":\"Mercado registra desempenho err\\u00e1tico ap\\u00f3s tr\\u00eas sess\\u00f5es seguidas de expressiva alta\\nThe post Ibovespa sobe puxado por Vale e bancos em meio a notici\\u00e1rio corporativo; d\\u00f3lar tem leve baixa appeared first on InfoMoney.\",\"url\":\"https:\\/\\/www.infomoney.com.br\\/mercados\\/ibovespa-sobe-puxado-por-vale-e-bancos-em-meio-a-noticiario-corporativo-dolar-tem-leve-baixa\\/\",\"source\":\"InfoMoney\",\"image\":null,\"category\":\"business\",\"language\":\"pt\",\"country\":\"br\",\"published_at\":\"2021-02-04T13:17:00+00:00\"},{\"author\":\"Ricardo Bonfim\",\"title\":\"Ibovespa sobe puxado por Vale e bancos em meio a notici\\u00e1rio corporativo; d\\u00f3lar tem leve baixa\",\"description\":\"Mercado registra desempenho err\\u00e1tico ap\\u00f3s tr\\u00eas sess\\u00f5es seguidas de expressiva alta\\nThe post Ibovespa sobe puxado por Vale e bancos em meio a notici\\u00e1rio corporativo; d\\u00f3lar tem leve baixa appeared first on InfoMoney.\",\"url\":\"https:\\/\\/www.infomoney.com.br\\/mercados\\/ibovespa-sobe-puxado-por-vale-e-bancos-em-meio-a-noticiario-corporativo-dolar-tem-leve-baixa\\/\",\"source\":\"InfoMoney\",\"image\":null,\"category\":\"business\",\"language\":\"pt\",\"country\":\"br\",\"published_at\":\"2021-02-04T13:17:00+00:00\"},{\"author\":\"Ricardo Bonfim\",\"title\":\"Ibovespa sobe com aten\\u00e7\\u00e3o a resultados de empresas e pol\\u00edtica, e se descola do exterior; d\\u00f3lar vira para queda\",\"description\":\"Mercado mostra desempenho positivo na esteira da temporada de balan\\u00e7os e com expectativa por indicadores econ\\u00f4micosThe post Ibovespa sobe com aten\\u00e7\\u00e3o a resultados de empresas e pol\\u00edtica, e se descola do exterior; d\\u00f3lar vira para queda appeared first on InfoMoney.\",\"url\":\"https:\\/\\/www.infomoney.com.br\\/mercados\\/ibovespa-sobe-com-atencao-a-resultados-de-empresas-e-politica-e-se-descola-do-exterior-dolar-vira-para-queda\\/\",\"source\":\"InfoMoney\",\"image\":null,\"category\":\"business\",\"language\":\"pt\",\"country\":\"br\",\"published_at\":\"2021-02-26T13:13:23+00:00\"},{\"author\":\"Ricardo Bonfim\",\"title\":\"Ibovespa sobe puxado por Vale e bancos em meio a notici\\u00e1rio corporativo; d\\u00f3lar tem leve baixa\",\"description\":\"Mercado registra desempenho err\\u00e1tico ap\\u00f3s tr\\u00eas sess\\u00f5es seguidas de expressiva alta\\nThe post Ibovespa sobe puxado por Vale e bancos em meio a notici\\u00e1rio corporativo; d\\u00f3lar tem leve baixa appeared first on InfoMoney.\",\"url\":\"https:\\/\\/www.infomoney.com.br\\/mercados\\/ibovespa-sobe-puxado-por-vale-e-bancos-em-meio-a-noticiario-corporativo-dolar-tem-leve-baixa\\/\",\"source\":\"InfoMoney\",\"image\":null,\"category\":\"business\",\"language\":\"pt\",\"country\":\"br\",\"published_at\":\"2021-02-04T13:17:00+00:00\"},{\"author\":\"Ricardo Bonfim\",\"title\":\"Ibovespa sobe puxado por Vale e bancos em meio a notici\\u00e1rio corporativo; d\\u00f3lar tem leve baixa\",\"description\":\"Mercado registra desempenho err\\u00e1tico ap\\u00f3s tr\\u00eas sess\\u00f5es seguidas de expressiva alta\\nThe post Ibovespa sobe puxado por Vale e bancos em meio a notici\\u00e1rio corporativo; d\\u00f3lar tem leve baixa appeared first on InfoMoney.\",\"url\":\"https:\\/\\/www.infomoney.com.br\\/mercados\\/ibovespa-sobe-puxado-por-vale-e-bancos-em-meio-a-noticiario-corporativo-dolar-tem-leve-baixa\\/\",\"source\":\"InfoMoney\",\"image\":null,\"category\":\"business\",\"language\":\"pt\",\"country\":\"br\",\"published_at\":\"2021-02-04T13:17:00+00:00\"},{\"author\":\"Ricardo Bonfim\",\"title\":\"Ibovespa sobe puxado por Vale e bancos em meio a notici\\u00e1rio corporativo; d\\u00f3lar tem leve baixa\",\"description\":\"Mercado registra desempenho err\\u00e1tico ap\\u00f3s tr\\u00eas sess\\u00f5es seguidas de expressiva alta\\nThe post Ibovespa sobe puxado por Vale e bancos em meio a notici\\u00e1rio corporativo; d\\u00f3lar tem leve baixa appeared first on InfoMoney.\",\"url\":\"https:\\/\\/www.infomoney.com.br\\/mercados\\/ibovespa-sobe-puxado-por-vale-e-bancos-em-meio-a-noticiario-corporativo-dolar-tem-leve-baixa\\/\",\"source\":\"InfoMoney\",\"image\":null,\"category\":\"business\",\"language\":\"pt\",\"country\":\"br\",\"published_at\":\"2021-02-04T13:17:00+00:00\"},{\"author\":\"Ricardo Bonfim\",\"title\":\"Ibovespa Futuro sobe ap\\u00f3s Copom elevar a Selic a 2,75%; d\\u00f3lar cai a R$ 5,48\",\"description\":\"Pr\\u00e9-market registra ganhos diante da sinaliza\\u00e7\\u00e3o firme de combate \\u00e0 infla\\u00e7\\u00e3o realizada pela autoridade monet\\u00e1riaThe post Ibovespa Futuro sobe ap\\u00f3s Copom elevar a Selic a 2,75%; d\\u00f3lar cai a R$ 5,48 appeared first on InfoMoney.\",\"url\":\"https:\\/\\/www.infomoney.com.br\\/mercados\\/ibovespa-futuro-sobe-apos-copom-elevar-a-selic-a-275-dolar-cai-a-r-548\\/\",\"source\":\"InfoMoney\",\"image\":null,\"category\":\"business\",\"language\":\"pt\",\"country\":\"br\",\"published_at\":\"2021-03-18T12:15:41+00:00\"},{\"author\":\"rodrigoumpieres\",\"title\":\"Ibovespa Futuro cai seguindo exterior com piora da pandemia antes de fala de Powell e Yellen; d\\u00f3lar sobe\",\"description\":\"Bolsa recua seguindo \\u00edndices internacionais, enquanto investidores locais acompanham ata do Copom e aumento de casos de coronav\\u00edrusThe post Ibovespa Futuro cai seguindo exterior com piora da pandemia antes de fala de Powell e Yellen; d\\u00f3lar sobe appeared first on InfoMoney.\",\"url\":\"https:\\/\\/www.infomoney.com.br\\/mercados\\/ibovespa-futuro-cai-seguindo-exterior-com-piora-da-pandemia-antes-de-fala-de-powell-e-yellen-dolar-sobe\\/\",\"source\":\"InfoMoney\",\"image\":null,\"category\":\"business\",\"language\":\"pt\",\"country\":\"br\",\"published_at\":\"2021-03-23T12:12:07+00:00\"},{\"author\":\"Ricardo Bonfim\",\"title\":\"Ibovespa sobe puxado por Vale e bancos em meio a notici\\u00e1rio corporativo; d\\u00f3lar tem leve baixa\",\"description\":\"Mercado registra desempenho err\\u00e1tico ap\\u00f3s tr\\u00eas sess\\u00f5es seguidas de expressiva alta\\nThe post Ibovespa sobe puxado por Vale e bancos em meio a notici\\u00e1rio corporativo; d\\u00f3lar tem leve baixa appeared first on InfoMoney.\",\"url\":\"https:\\/\\/www.infomoney.com.br\\/mercados\\/ibovespa-sobe-puxado-por-vale-e-bancos-em-meio-a-noticiario-corporativo-dolar-tem-leve-baixa\\/\",\"source\":\"InfoMoney\",\"image\":null,\"category\":\"business\",\"language\":\"pt\",\"country\":\"br\",\"published_at\":\"2021-02-04T13:17:00+00:00\"},{\"author\":\"Ricardo Bonfim\",\"title\":\"Ibovespa sobe puxado por Vale e bancos em meio a notici\\u00e1rio corporativo; d\\u00f3lar tem leve baixa\",\"description\":\"Mercado registra desempenho err\\u00e1tico ap\\u00f3s tr\\u00eas sess\\u00f5es seguidas de expressiva alta\\nThe post Ibovespa sobe puxado por Vale e bancos em meio a notici\\u00e1rio corporativo; d\\u00f3lar tem leve baixa appeared first on InfoMoney.\",\"url\":\"https:\\/\\/www.infomoney.com.br\\/mercados\\/ibovespa-sobe-puxado-por-vale-e-bancos-em-meio-a-noticiario-corporativo-dolar-tem-leve-baixa\\/\",\"source\":\"InfoMoney\",\"image\":null,\"category\":\"business\",\"language\":\"pt\",\"country\":\"br\",\"published_at\":\"2021-02-04T13:17:00+00:00\"},{\"author\":\"Ricardo Bonfim\",\"title\":\"Ibovespa sobe puxado por Vale e bancos em meio a notici\\u00e1rio corporativo; d\\u00f3lar tem leve baixa\",\"description\":\"Mercado registra desempenho err\\u00e1tico ap\\u00f3s tr\\u00eas sess\\u00f5es seguidas de expressiva alta\\nThe post Ibovespa sobe puxado por Vale e bancos em meio a notici\\u00e1rio corporativo; d\\u00f3lar tem leve baixa appeared first on InfoMoney.\",\"url\":\"https:\\/\\/www.infomoney.com.br\\/mercados\\/ibovespa-sobe-puxado-por-vale-e-bancos-em-meio-a-noticiario-corporativo-dolar-tem-leve-baixa\\/\",\"source\":\"InfoMoney\",\"image\":null,\"category\":\"business\",\"language\":\"pt\",\"country\":\"br\",\"published_at\":\"2021-02-04T13:17:00+00:00\"},{\"author\":\"Ricardo Bonfim\",\"title\":\"Ibovespa sobe puxado por Vale e bancos em meio a notici\\u00e1rio corporativo; d\\u00f3lar tem leve baixa\",\"description\":\"Mercado registra desempenho err\\u00e1tico ap\\u00f3s tr\\u00eas sess\\u00f5es seguidas de expressiva alta\\nThe post Ibovespa sobe puxado por Vale e bancos em meio a notici\\u00e1rio corporativo; d\\u00f3lar tem leve baixa appeared first on InfoMoney.\",\"url\":\"https:\\/\\/www.infomoney.com.br\\/mercados\\/ibovespa-sobe-puxado-por-vale-e-bancos-em-meio-a-noticiario-corporativo-dolar-tem-leve-baixa\\/\",\"source\":\"InfoMoney\",\"image\":null,\"category\":\"business\",\"language\":\"pt\",\"country\":\"br\",\"published_at\":\"2021-02-04T13:17:00+00:00\"},{\"author\":\"rodrigoumpieres\",\"title\":\"Ibovespa Futuro opera entre perdas e ganhos com investidores de olho em dados dos EUA e resultados; d\\u00f3lar sobe\",\"description\":\"Bolsa inicia a quinta-feira sem tend\\u00eancia definida, seguindo cen\\u00e1rio externo, enquanto investidores digerem os balan\\u00e7os de grandes empresas nacionaisThe post Ibovespa Futuro opera entre perdas e ganhos com investidores de olho em dados dos EUA e resultados; d\\u00f3lar sobe appeared first on InfoMoney.\",\"url\":\"https:\\/\\/www.infomoney.com.br\\/mercados\\/ibovespa-futuro-opera-entre-perdas-e-ganhos-com-investidores-de-olho-em-dados-dos-eua-e-resultados-dolar-sobe\\/\",\"source\":\"InfoMoney\",\"image\":null,\"category\":\"business\",\"language\":\"pt\",\"country\":\"br\",\"published_at\":\"2021-02-25T12:09:02+00:00\"},{\"author\":\"Ricardo Bonfim\",\"title\":\"Ibovespa fecha em alta em dia de vencimento de op\\u00e7\\u00f5es e exterior positivo; d\\u00f3lar sobe a R$ 5,64\",\"description\":\"Mercado registrou ganhos na esteira da melhora do humor dos investidores em Wall StreetThe post Ibovespa fecha em alta em dia de vencimento de op\\u00e7\\u00f5es e exterior positivo; d\\u00f3lar sobe a R$ 5,64 appeared first on InfoMoney.\",\"url\":\"https:\\/\\/www.infomoney.com.br\\/mercados\\/ibovespa-fecha-em-alta-em-dia-de-vencimento-de-opcoes-e-exterior-positivo-dolar-sobe-a-r-564\\/\",\"source\":\"InfoMoney\",\"image\":null,\"category\":\"business\",\"language\":\"pt\",\"country\":\"br\",\"published_at\":\"2021-03-15T20:22:53+00:00\"},{\"author\":\"Ricardo Bonfim\",\"title\":\"Ibovespa sobe puxado por Vale e bancos em meio a notici\\u00e1rio corporativo; d\\u00f3lar tem leve baixa\",\"description\":\"Mercado registra desempenho err\\u00e1tico ap\\u00f3s tr\\u00eas sess\\u00f5es seguidas de expressiva alta\\nThe post Ibovespa sobe puxado por Vale e bancos em meio a notici\\u00e1rio corporativo; d\\u00f3lar tem leve baixa appeared first on InfoMoney.\",\"url\":\"https:\\/\\/www.infomoney.com.br\\/mercados\\/ibovespa-sobe-puxado-por-vale-e-bancos-em-meio-a-noticiario-corporativo-dolar-tem-leve-baixa\\/\",\"source\":\"InfoMoney\",\"image\":null,\"category\":\"business\",\"language\":\"pt\",\"country\":\"br\",\"published_at\":\"2021-02-04T13:17:00+00:00\"},{\"author\":\"Ricardo Bonfim\",\"title\":\"BC mais agressivo dificulta escalada do d\\u00f3lar a R$ 6,00, mas real segue pressionado, dizem analistas\",\"description\":\"Preocupa\\u00e7\\u00e3o com fiscal e incertezas acerca do coronav\\u00edrus colocam piso no d\\u00f3lar acima dos R$ 5,00The post BC mais agressivo dificulta escalada do d\\u00f3lar a R$ 6,00, mas real segue pressionado, dizem analistas appeared first on InfoMoney.\",\"url\":\"https:\\/\\/www.infomoney.com.br\\/mercados\\/bc-mais-agressivo-dificulta-escalada-do-dolar-a-r-600-mas-real-segue-pressionado-dizem-analistas\\/\",\"source\":\"InfoMoney\",\"image\":null,\"category\":\"business\",\"language\":\"pt\",\"country\":\"br\",\"published_at\":\"2021-03-19T11:09:08+00:00\"},{\"author\":\"Ricardo Bonfim\",\"title\":\"Ibovespa fecha em alta com al\\u00edvio sobre PEC Emergencial e exterior positivo; d\\u00f3lar sobe a R$ 5,79\",\"description\":\"Mercado teve ganhos na esteira do notici\\u00e1rio pol\\u00edtico, que tirou do caminho algumas preocupa\\u00e7\\u00f5es sobre a pot\\u00eancia fiscal do projeto a ser votado na C\\u00e2maraThe post Ibovespa fecha em alta com al\\u00edvio sobre PEC Emergencial e exterior positivo; d\\u00f3lar sobe a R$ 5,79 appeared first on InfoMoney.\",\"url\":\"https:\\/\\/www.infomoney.com.br\\/mercados\\/ibovespa-fecha-em-alta-com-alivio-sobre-pec-emergencial-e-exterior-positivo-dolar-sobe-a-r-579\\/\",\"source\":\"InfoMoney\",\"image\":null,\"category\":\"business\",\"language\":\"pt\",\"country\":\"br\",\"published_at\":\"2021-03-09T21:31:06+00:00\"},{\"author\":\"Ricardo Bonfim\",\"title\":\"Ibovespa interrompe sequ\\u00eancia de altas com cen\\u00e1rio corporativo e ru\\u00eddo pol\\u00edtico; d\\u00f3lar sobe a R$ 5,44\",\"description\":\"Mercado encerra preg\\u00e3o com baixas e deixou de lado momentaneamente o otimismo que dominou a semana\\nThe post Ibovespa interrompe sequ\\u00eancia de altas com cen\\u00e1rio corporativo e ru\\u00eddo pol\\u00edtico; d\\u00f3lar sobe a R$ 5,44 appeared first on InfoMoney.\",\"url\":\"https:\\/\\/www.infomoney.com.br\\/mercados\\/ibovespa-interrompe-sequencia-de-altas-com-cenario-corporativo-e-ruido-politico-dolar-sobe-a-r-544\\/\",\"source\":\"InfoMoney\",\"image\":null,\"category\":\"business\",\"language\":\"pt\",\"country\":\"br\",\"published_at\":\"2021-02-04T21:30:04+00:00\"},{\"author\":\"rodrigoumpieres\",\"title\":\"Ibovespa sobe com investidores de olho em vacina\\u00e7\\u00e3o e dados de emprego nos EUA; d\\u00f3lar fica pr\\u00f3ximo da estabilidade\",\"description\":\"\\u00cdndice registra ganhos e se aproxima dos 120 pontos seguindo exterior antes do relat\\u00f3rio de emprego americano\\nThe post Ibovespa sobe com investidores de olho em vacina\\u00e7\\u00e3o e dados de emprego nos EUA; d\\u00f3lar fica pr\\u00f3ximo da estabilidade appeared first on InfoMoney.\",\"url\":\"https:\\/\\/www.infomoney.com.br\\/mercados\\/ibovespa-sobe-com-investidores-de-olho-em-vacinacao-e-dados-de-emprego-nos-eua-dolar-fica-proximo-da-estabilidade\\/\",\"source\":\"InfoMoney\",\"image\":null,\"category\":\"business\",\"language\":\"pt\",\"country\":\"br\",\"published_at\":\"2021-02-05T13:17:51+00:00\"},{\"author\":\"Ricardo Bonfim\",\"title\":\"Ibovespa sobe puxado por Vale e bancos em meio a notici\\u00e1rio corporativo; d\\u00f3lar tem leve baixa\",\"description\":\"Mercado registra desempenho err\\u00e1tico ap\\u00f3s tr\\u00eas sess\\u00f5es seguidas de expressiva alta\\nThe post Ibovespa sobe puxado por Vale e bancos em meio a notici\\u00e1rio corporativo; d\\u00f3lar tem leve baixa appeared first on InfoMoney.\",\"url\":\"https:\\/\\/www.infomoney.com.br\\/mercados\\/ibovespa-sobe-puxado-por-vale-e-bancos-em-meio-a-noticiario-corporativo-dolar-tem-leve-baixa\\/\",\"source\":\"InfoMoney\",\"image\":null,\"category\":\"business\",\"language\":\"pt\",\"country\":\"br\",\"published_at\":\"2021-02-04T13:17:00+00:00\"},{\"author\":\"Ricardo Bonfim\",\"title\":\"Ibovespa sobe puxado por Vale e bancos em meio a notici\\u00e1rio corporativo; d\\u00f3lar tem leve baixa\",\"description\":\"Mercado registra desempenho err\\u00e1tico ap\\u00f3s tr\\u00eas sess\\u00f5es seguidas de expressiva alta\\nThe post Ibovespa sobe puxado por Vale e bancos em meio a notici\\u00e1rio corporativo; d\\u00f3lar tem leve baixa appeared first on InfoMoney.\",\"url\":\"https:\\/\\/www.infomoney.com.br\\/mercados\\/ibovespa-sobe-puxado-por-vale-e-bancos-em-meio-a-noticiario-corporativo-dolar-tem-leve-baixa\\/\",\"source\":\"InfoMoney\",\"image\":null,\"category\":\"business\",\"language\":\"pt\",\"country\":\"br\",\"published_at\":\"2021-02-04T13:17:00+00:00\"},{\"author\":\"Ricardo Bonfim\",\"title\":\"Ibovespa sobe puxado por Vale e bancos em meio a notici\\u00e1rio corporativo; d\\u00f3lar tem leve baixa\",\"description\":\"Mercado registra desempenho err\\u00e1tico ap\\u00f3s tr\\u00eas sess\\u00f5es seguidas de expressiva alta\\nThe post Ibovespa sobe puxado por Vale e bancos em meio a notici\\u00e1rio corporativo; d\\u00f3lar tem leve baixa appeared first on InfoMoney.\",\"url\":\"https:\\/\\/www.infomoney.com.br\\/mercados\\/ibovespa-sobe-puxado-por-vale-e-bancos-em-meio-a-noticiario-corporativo-dolar-tem-leve-baixa\\/\",\"source\":\"InfoMoney\",\"image\":null,\"category\":\"business\",\"language\":\"pt\",\"country\":\"br\",\"published_at\":\"2021-02-04T13:17:00+00:00\"},{\"author\":\"Ricardo Bonfim\",\"title\":\"Ibovespa Futuro cai com investidores \\u00e0 espera das decis\\u00f5es do Copom e do Fomc; d\\u00f3lar sobe a R$ 5,66\",\"description\":\"Pr\\u00e9-market mostra perdas em meio \\u00e0 disparada no yield dos treasuries em dia de pol\\u00edtica monet\\u00e1ria no radarThe post Ibovespa Futuro cai com investidores \\u00e0 espera das decis\\u00f5es do Copom e do Fomc; d\\u00f3lar sobe a R$ 5,66 appeared first on InfoMoney.\",\"url\":\"https:\\/\\/www.infomoney.com.br\\/mercados\\/ibovespa-futuro-cai-com-investidores-a-espera-das-decisoes-do-copom-e-do-fomc-dolar-sobe-a-r-566\\/\",\"source\":\"InfoMoney\",\"image\":null,\"category\":\"business\",\"language\":\"pt\",\"country\":\"br\",\"published_at\":\"2021-03-17T12:20:25+00:00\"},{\"author\":\"Ricardo Bonfim\",\"title\":\"Ibovespa cai em meio a preocupa\\u00e7\\u00f5es com a pandemia e dia de tens\\u00e3o econ\\u00f4mica na Turquia; d\\u00f3lar sobe a R$ 5,53\",\"description\":\"Mercado registra perdas na esteira da avers\\u00e3o a risco que toma conta dos emergentesThe post Ibovespa cai em meio a preocupa\\u00e7\\u00f5es com a pandemia e dia de tens\\u00e3o econ\\u00f4mica na Turquia; d\\u00f3lar sobe a R$ 5,53 appeared first on InfoMoney.\",\"url\":\"https:\\/\\/www.infomoney.com.br\\/mercados\\/ibovespa-cai-em-meio-a-preocupacoes-com-a-pandemia-e-dia-de-tensao-economica-na-turquia-dolar-sobe-a-r-553\\/\",\"source\":\"InfoMoney\",\"image\":null,\"category\":\"business\",\"language\":\"pt\",\"country\":\"br\",\"published_at\":\"2021-03-22T13:14:56+00:00\"},{\"author\":\"Ricardo Bonfim\",\"title\":\"Ibovespa fecha est\\u00e1vel e encerra semana em queda de 0,7% com cautela antes de Carnaval; d\\u00f3lar cai a R$ 5,37\",\"description\":\"Bolsa mostrou disputa entre comprados e vendidos diante de not\\u00edcias sobre novo aux\\u00edlio emergencialThe post Ibovespa fecha est\\u00e1vel e encerra semana em queda de 0,7% com cautela antes de Carnaval; d\\u00f3lar cai a R$ 5,37 appeared first on InfoMoney.\",\"url\":\"https:\\/\\/www.infomoney.com.br\\/mercados\\/ibovespa-fecha-estavel-e-encerra-semana-em-queda-de-07-com-cautela-antes-de-carnaval-dolar-cai-a-r-537\\/\",\"source\":\"InfoMoney\",\"image\":null,\"category\":\"business\",\"language\":\"pt\",\"country\":\"br\",\"published_at\":\"2021-02-12T21:28:20+00:00\"},{\"author\":\"Ricardo Bonfim\",\"title\":\"Ibovespa fecha em alta de 0,4% puxado por Petrobras em dia de aten\\u00e7\\u00e3o a resultados; d\\u00f3lar cai a R$ 5,42\",\"description\":\"Mercado mostra mais um dia de retomada altista depois do \\u0022sell-off\\u0022 ocorrido na segunda-feiraThe post Ibovespa fecha em alta de 0,4% puxado por Petrobras em dia de aten\\u00e7\\u00e3o a resultados; d\\u00f3lar cai a R$ 5,42 appeared first on InfoMoney.\",\"url\":\"https:\\/\\/www.infomoney.com.br\\/mercados\\/ibovespa-fecha-em-alta-de-04-puxado-por-petrobras-em-dia-de-atencao-a-resultados-dolar-cai-a-r-542\\/\",\"source\":\"InfoMoney\",\"image\":null,\"category\":\"business\",\"language\":\"pt\",\"country\":\"br\",\"published_at\":\"2021-02-24T21:27:56+00:00\"},{\"author\":\"Ricardo Bonfim\",\"title\":\"Ibovespa fecha em queda de 2,95% e vai a seu menor patamar desde 2 de dezembro; d\\u00f3lar sobe a R$ 5,51\",\"description\":\"Mercado sucumbiu \\u00e0 nova sinaliza\\u00e7\\u00e3o d\\u00fabia de Bolsonaro sobre a Petrobras e ao mau humor dos investidores em Wall StreetThe post Ibovespa fecha em queda de 2,95% e vai a seu menor patamar desde 2 de dezembro; d\\u00f3lar sobe a R$ 5,51 appeared first on InfoMoney.\",\"url\":\"https:\\/\\/www.infomoney.com.br\\/mercados\\/ibovespa-fecha-em-queda-de-295-e-vai-a-seu-menor-patamar-desde-2-de-dezembro-dolar-sobe-a-r-551\\/\",\"source\":\"InfoMoney\",\"image\":null,\"category\":\"business\",\"language\":\"pt\",\"country\":\"br\",\"published_at\":\"2021-02-25T21:23:11+00:00\"},{\"author\":\"Ricardo Bonfim\",\"title\":\"Ibovespa fecha em queda de 4,4% no m\\u00eas em meio a preocupa\\u00e7\\u00e3o com estatais; d\\u00f3lar sobe 2,4% em fevereiro\",\"description\":\"Mercado aumentou a avers\\u00e3o a risco diante da cada vez mais incerta pauta liberal do governoThe post Ibovespa fecha em queda de 4,4% no m\\u00eas em meio a preocupa\\u00e7\\u00e3o com estatais; d\\u00f3lar sobe 2,4% em fevereiro appeared first on InfoMoney.\",\"url\":\"https:\\/\\/www.infomoney.com.br\\/mercados\\/ibovespa-fecha-em-queda-de-44-no-mes-em-meio-a-preocupacao-com-estatais-dolar-sobe-24-em-fevereiro\\/\",\"source\":\"InfoMoney\",\"image\":null,\"category\":\"business\",\"language\":\"pt\",\"country\":\"br\",\"published_at\":\"2021-02-26T21:34:50+00:00\"},{\"author\":\"Ricardo Bonfim\",\"title\":\"Ibovespa Futuro cai em meio a indicadores, exterior e expectativa por novo aux\\u00edlio; d\\u00f3lar sobe a R$ 5,39\",\"description\":\"Pr\\u00e9-market mostra perdas depois do desempenho positivo do preg\\u00e3o anteriorThe post Ibovespa Futuro cai em meio a indicadores, exterior e expectativa por novo aux\\u00edlio; d\\u00f3lar sobe a R$ 5,39 appeared first on InfoMoney.\",\"url\":\"https:\\/\\/www.infomoney.com.br\\/mercados\\/ibovespa-futuro-cai-em-meio-a-indicadores-exterior-e-expectativa-por-novo-auxilio-dolar-sobe-a-r-539\\/\",\"source\":\"InfoMoney\",\"image\":null,\"category\":\"business\",\"language\":\"pt\",\"country\":\"br\",\"published_at\":\"2021-02-12T12:15:43+00:00\"},{\"author\":\"Ricardo Bonfim\",\"title\":\"Ibovespa Futuro sobe com recupera\\u00e7\\u00e3o depois de \\u201cefeito Lula\\u201d da v\\u00e9spera e segue exterior; d\\u00f3lar sobe a R$ 5,82\",\"description\":\"Pr\\u00e9-market mostra ganhos na esteira de um dia muito negativo; ainda no radar dos investidores, discuss\\u00e3o sobre PEC Emergencial tem indefini\\u00e7\\u00f5esThe post Ibovespa Futuro sobe com recupera\\u00e7\\u00e3o depois de \\u0026#8220;efeito Lula\\u0026#8221; da v\\u00e9spera e segue exterior; d\\u00f3lar sobe a R$ 5,82 appeared first on InfoMoney.\",\"url\":\"https:\\/\\/www.infomoney.com.br\\/mercados\\/ibovespa-futuro-sobe-com-recuperacao-depois-de-efeito-lula-da-vespera-e-segue-exterior-dolar-sobe-a-r-582\\/\",\"source\":\"InfoMoney\",\"image\":null,\"category\":\"business\",\"language\":\"pt\",\"country\":\"br\",\"published_at\":\"2021-03-09T12:22:50+00:00\"},{\"author\":\"Ricardo Bonfim\",\"title\":\"Ibovespa tem queda em meio \\u00e0 expectativa por prov\\u00e1vel troca na Sa\\u00fade; d\\u00f3lar sobe a R$ 5,60\",\"description\":\"Mercado registra desempenho negativo na esteira da incerteza pol\\u00edtica dom\\u00e9sticaThe post Ibovespa tem queda em meio \\u00e0 expectativa por prov\\u00e1vel troca na Sa\\u00fade; d\\u00f3lar sobe a R$ 5,60 appeared first on InfoMoney.\",\"url\":\"https:\\/\\/www.infomoney.com.br\\/mercados\\/ibovespa-tem-queda-em-meio-a-expectativa-por-provavel-troca-na-saude-dolar-sobe-a-r-560\\/\",\"source\":\"InfoMoney\",\"image\":null,\"category\":\"business\",\"language\":\"pt\",\"country\":\"br\",\"published_at\":\"2021-03-15T13:19:16+00:00\"},{\"author\":\"Ricardo Bonfim\",\"title\":\"Ibovespa fecha em queda de 1% em meio a avers\\u00e3o a emergentes por not\\u00edcias da Turquia; d\\u00f3lar sobe a R$ 5,51\",\"description\":\"Mercado encerra sess\\u00e3o com perdas gra\\u00e7as \\u00e0 piora no ambiente internacionalThe post Ibovespa fecha em queda de 1% em meio a avers\\u00e3o a emergentes por not\\u00edcias da Turquia; d\\u00f3lar sobe a R$ 5,51 appeared first on InfoMoney.\",\"url\":\"https:\\/\\/www.infomoney.com.br\\/mercados\\/ibovespa-fecha-em-queda-de-1-em-meio-a-aversao-a-emergentes-por-noticias-da-turquia-dolar-sobe-a-r-551\\/\",\"source\":\"InfoMoney\",\"image\":null,\"category\":\"business\",\"language\":\"pt\",\"country\":\"br\",\"published_at\":\"2021-03-22T20:14:25+00:00\"},{\"author\":\"Ricardo Bonfim\",\"title\":\"Ibovespa opera entre perdas e ganhos com exterior positivo ofuscado por decis\\u00e3o do STF sobre Lula; d\\u00f3lar sobe a R$ 5,84\",\"description\":\"Mercado mostra desempenho err\\u00e1tico na esteira de um dia muito negativo; ainda no radar dos investidores, discuss\\u00e3o sobre PEC Emergencial tem indefini\\u00e7\\u00f5esThe post Ibovespa opera entre perdas e ganhos com exterior positivo ofuscado por decis\\u00e3o do STF sobre Lula; d\\u00f3lar sobe a R$ 5,84 appeared first on InfoMoney.\",\"url\":\"https:\\/\\/www.infomoney.com.br\\/mercados\\/ibovespa-opera-entre-perdas-e-ganhos-com-exterior-positivo-ofuscado-por-decisao-do-stf-sobre-lula-dolar-sobe-a-r-584\\/\",\"source\":\"InfoMoney\",\"image\":null,\"category\":\"business\",\"language\":\"pt\",\"country\":\"br\",\"published_at\":\"2021-03-09T13:18:33+00:00\"},{\"author\":\"Ricardo Bonfim\",\"title\":\"Ibovespa sobe antes de vota\\u00e7\\u00e3o em 2\\u00ba turno da PEC Emergencial e ap\\u00f3s est\\u00edmulos nos EUA; d\\u00f3lar cai a R$ 5,60\",\"description\":\"Mercado registra ganhos com expectativa por medida fiscal enquanto ganha for\\u00e7a do exteriorThe post Ibovespa sobe antes de vota\\u00e7\\u00e3o em 2\\u00ba turno da PEC Emergencial e ap\\u00f3s est\\u00edmulos nos EUA; d\\u00f3lar cai a R$ 5,60 appeared first on InfoMoney.\",\"url\":\"https:\\/\\/www.infomoney.com.br\\/mercados\\/ibovespa-sobe-antes-de-votacao-em-2o-turno-da-pec-emergencial-e-apos-estimulos-nos-eua-dolar-cai-a-r-560\\/\",\"source\":\"InfoMoney\",\"image\":null,\"category\":\"business\",\"language\":\"pt\",\"country\":\"br\",\"published_at\":\"2021-03-11T13:15:26+00:00\"},{\"author\":\"Ricardo Bonfim\",\"title\":\"Ibovespa fecha em queda e acumula perdas de 0,9% em semana marcada pela pol\\u00edtica; d\\u00f3lar sobe a R$ 5,56\",\"description\":\"Mercado encerra semana com perdas diante da maior polariza\\u00e7\\u00e3o e incerteza pol\\u00edticaThe post Ibovespa fecha em queda e acumula perdas de 0,9% em semana marcada pela pol\\u00edtica; d\\u00f3lar sobe a R$ 5,56 appeared first on InfoMoney.\",\"url\":\"https:\\/\\/www.infomoney.com.br\\/mercados\\/ibovespa-fecha-em-queda-e-acumula-perdas-de-09-em-semana-marcada-pela-politica-dolar-sobe-a-r-556\\/\",\"source\":\"InfoMoney\",\"image\":null,\"category\":\"business\",\"language\":\"pt\",\"country\":\"br\",\"published_at\":\"2021-03-12T21:33:47+00:00\"},{\"author\":\"Ricardo Bonfim\",\"title\":\"Ibovespa tem leve alta ap\\u00f3s aprova\\u00e7\\u00e3o da PEC Emergencial em primeiro turno; d\\u00f3lar cai a R$ 5,77\",\"description\":\"Mercado registra desempenho positivo diante do al\\u00edvio nas preocupa\\u00e7\\u00f5es com o ajuste fiscalThe post Ibovespa tem leve alta ap\\u00f3s aprova\\u00e7\\u00e3o da PEC Emergencial em primeiro turno; d\\u00f3lar cai a R$ 5,77 appeared first on InfoMoney.\",\"url\":\"https:\\/\\/www.infomoney.com.br\\/mercados\\/ibovespa-tem-leve-alta-apos-aprovacao-da-pec-emergencial-em-primeiro-turno-dolar-cai-a-r-577\\/\",\"source\":\"InfoMoney\",\"image\":null,\"category\":\"business\",\"language\":\"pt\",\"country\":\"br\",\"published_at\":\"2021-03-10T13:17:53+00:00\"},{\"author\":\"Ricardo Bonfim\",\"title\":\"Ibovespa Futuro sobe em meio \\u00e0 aprova\\u00e7\\u00e3o da PEC Emergencial e se descola do exterior; d\\u00f3lar cai a R$ 5,79\",\"description\":\"Pr\\u00e9-market mostra desempenho positivo diante da pot\\u00eancia fiscal do texto, que foi votado sem as exce\\u00e7\\u00f5es que estavam sendo ventiladasThe post Ibovespa Futuro sobe em meio \\u00e0 aprova\\u00e7\\u00e3o da PEC Emergencial e se descola do exterior; d\\u00f3lar cai a R$ 5,79 appeared first on InfoMoney.\",\"url\":\"https:\\/\\/www.infomoney.com.br\\/mercados\\/ibovespa-futuro-sobe-em-meio-a-aprovacao-da-pec-emergencial-e-se-descola-do-exterior-dolar-cai-a-r-579\\/\",\"source\":\"InfoMoney\",\"image\":null,\"category\":\"business\",\"language\":\"pt\",\"country\":\"br\",\"published_at\":\"2021-03-10T12:17:29+00:00\"},{\"author\":\"Ricardo Bonfim\",\"title\":\"Ibovespa fecha em alta e encerra semana com ganho de 4,5%, quebrando sequ\\u00eancia negativa; d\\u00f3lar cai a R$ 5,38\",\"description\":\"Mercado encerra sess\\u00e3o em tom otimista diante do al\\u00edvio ap\\u00f3s ru\\u00eddos de interfer\\u00eancia governamental na Petrobras\\nThe post Ibovespa fecha em alta e encerra semana com ganho de 4,5%, quebrando sequ\\u00eancia negativa; d\\u00f3lar cai a R$ 5,38 appeared first on InfoMoney.\",\"url\":\"https:\\/\\/www.infomoney.com.br\\/mercados\\/ibovespa-fecha-em-alta-e-encerra-semana-com-ganho-de-45-quebrando-sequencia-negativa-dolar-cai-a-r-538\\/\",\"source\":\"InfoMoney\",\"image\":null,\"category\":\"business\",\"language\":\"pt\",\"country\":\"br\",\"published_at\":\"2021-02-05T21:27:53+00:00\"},{\"author\":\"Ricardo Bonfim\",\"title\":\"Ibovespa Futuro cai ap\\u00f3s forte alta na v\\u00e9spera e segue bolsas internacionais; d\\u00f3lar sobe a R$ 5,57\",\"description\":\"Pr\\u00e9-market aponta para dia de corre\\u00e7\\u00e3o em meio ao avan\\u00e7o no rendimento dos treasuries de 10 anos dos EUAThe post Ibovespa Futuro cai ap\\u00f3s forte alta na v\\u00e9spera e segue bolsas internacionais; d\\u00f3lar sobe a R$ 5,57 appeared first on InfoMoney.\",\"url\":\"https:\\/\\/www.infomoney.com.br\\/mercados\\/ibovespa-futuro-cai-apos-forte-alta-na-vespera-e-segue-bolsas-internacionais-dolar-sobe-a-r-557\\/\",\"source\":\"InfoMoney\",\"image\":null,\"category\":\"business\",\"language\":\"pt\",\"country\":\"br\",\"published_at\":\"2021-03-12T12:18:24+00:00\"},{\"author\":\"Ricardo Bonfim\",\"title\":\"Ibovespa fecha em alta impulsionado por PEC Emergencial e pacote dos EUA; d\\u00f3lar cai 2,5% e vai a R$ 5,65\",\"description\":\"Mercado encerra o preg\\u00e3o com ganhos em dia de extrema volatilidade devido \\u00e0 pol\\u00edticaThe post Ibovespa fecha em alta impulsionado por PEC Emergencial e pacote dos EUA; d\\u00f3lar cai 2,5% e vai a R$ 5,65 appeared first on InfoMoney.\",\"url\":\"https:\\/\\/www.infomoney.com.br\\/mercados\\/ibovespa-fecha-em-alta-impulsionado-por-pec-emergencial-e-pacote-dos-eua-dolar-cai-25-e-vai-a-r-565\\/\",\"source\":\"InfoMoney\",\"image\":null,\"category\":\"business\",\"language\":\"pt\",\"country\":\"br\",\"published_at\":\"2021-03-10T21:33:02+00:00\"},{\"author\":\"Ricardo Bonfim\",\"title\":\"Ibovespa tem alta de 1,8% em semana marcada por pol\\u00edtica monet\\u00e1ria e volatilidade dos treasuries; d\\u00f3lar cai a R$ 5,48\",\"description\":\"Mercado encerra em territ\\u00f3rio positivo a semana de forte preval\\u00eancia de decis\\u00f5es de juros no cen\\u00e1rio internacionalThe post Ibovespa tem alta de 1,8% em semana marcada por pol\\u00edtica monet\\u00e1ria e volatilidade dos treasuries; d\\u00f3lar cai a R$ 5,48 appeared first on InfoMoney.\",\"url\":\"https:\\/\\/www.infomoney.com.br\\/mercados\\/ibovespa-tem-alta-de-18-em-semana-marcada-por-politica-monetaria-e-volatilidade-dos-treasuries-dolar-cai-a-r-548\\/\",\"source\":\"InfoMoney\",\"image\":null,\"category\":\"business\",\"language\":\"pt\",\"country\":\"br\",\"published_at\":\"2021-03-19T20:33:54+00:00\"},{\"author\":\"Ricardo Bonfim\",\"title\":\"Ibovespa Futuro opera entre perdas e ganhos com aten\\u00e7\\u00f5es \\u00e0 poss\\u00edvel mudan\\u00e7a na Sa\\u00fade; d\\u00f3lar cai a R$ 5,54\",\"description\":\"Pr\\u00e9-market mostra desempenho err\\u00e1tico \\u00e0 medida que se repercutem as incertezas pol\\u00edticas no Brasil e a rotatividade de a\\u00e7\\u00f5es nos EUAThe post Ibovespa Futuro opera entre perdas e ganhos com aten\\u00e7\\u00f5es \\u00e0 poss\\u00edvel mudan\\u00e7a na Sa\\u00fade; d\\u00f3lar cai a R$ 5,54 appeared first on InfoMoney.\",\"url\":\"https:\\/\\/www.infomoney.com.br\\/mercados\\/ibovespa-futuro-opera-entre-perdas-e-ganhos-com-atencoes-a-possivel-mudanca-na-saude-dolar-cai-a-r-554\\/\",\"source\":\"InfoMoney\",\"image\":null,\"category\":\"business\",\"language\":\"pt\",\"country\":\"br\",\"published_at\":\"2021-03-15T12:20:42+00:00\"},{\"author\":\"Ricardo Bonfim\",\"title\":\"Ibovespa Futuro opera entre perdas e ganhos ap\\u00f3s troca na Sa\\u00fade e com expectativa por BC e Fed; d\\u00f3lar cai a R$ 5,62\",\"description\":\"Pr\\u00e9-market mostra desempenho err\\u00e1tico j\\u00e1 com os investidores em compasso de espera por decis\\u00f5es de pol\\u00edtica monet\\u00e1riaThe post Ibovespa Futuro opera entre perdas e ganhos ap\\u00f3s troca na Sa\\u00fade e com expectativa por BC e Fed; d\\u00f3lar cai a R$ 5,62 appeared first on InfoMoney.\",\"url\":\"https:\\/\\/www.infomoney.com.br\\/mercados\\/ibovespa-futuro-opera-entre-perdas-e-ganhos-apos-troca-na-saude-e-com-expectativa-por-bc-e-fed-dolar-cai-a-r-562\\/\",\"source\":\"InfoMoney\",\"image\":null,\"category\":\"business\",\"language\":\"pt\",\"country\":\"br\",\"published_at\":\"2021-03-16T12:13:58+00:00\"},{\"author\":\"rodrigoumpieres\",\"title\":\"Ibovespa sobe 0,73% ap\\u00f3s 3 quedas, mas fecha longe das m\\u00e1ximas com fiscal e exterior; d\\u00f3lar vai a R$ 5,38\",\"description\":\"\\u00cdndice perdeu for\\u00e7a ap\\u00f3s chegar a subir 1,56% na m\\u00e1xima do dia, mas conseguiu encerrar uma sequ\\u00eancia de tr\\u00eas quedasThe post Ibovespa sobe 0,73% ap\\u00f3s 3 quedas, mas fecha longe das m\\u00e1ximas com fiscal e exterior; d\\u00f3lar vai a R$ 5,38 appeared first on InfoMoney.\",\"url\":\"https:\\/\\/www.infomoney.com.br\\/mercados\\/ibovespa-sobe-073-apos-3-quedas-mas-fecha-longe-das-maximas-com-fiscal-e-exterior-dolar-vai-a-r-538\\/\",\"source\":\"InfoMoney\",\"image\":null,\"category\":\"business\",\"language\":\"pt\",\"country\":\"br\",\"published_at\":\"2021-02-11T21:20:44+00:00\"},{\"author\":\"Ricardo Bonfim\",\"title\":\"Ibovespa fecha em alta de 2% e encosta nos 115 mil pontos com exterior e PEC Emergencial; d\\u00f3lar cai a R$ 5,54\",\"description\":\"Mercado estendeu os ganhos da v\\u00e9spera em meio \\u00e0 melhora no cen\\u00e1rio fiscalThe post Ibovespa fecha em alta de 2% e encosta nos 115 mil pontos com exterior e PEC Emergencial; d\\u00f3lar cai a R$ 5,54 appeared first on InfoMoney.\",\"url\":\"https:\\/\\/www.infomoney.com.br\\/mercados\\/ibovespa-fecha-em-alta-de-2-e-encosta-nos-115-mil-pontos-com-exterior-e-pec-emergencial-dolar-cai-a-r-554\\/\",\"source\":\"InfoMoney\",\"image\":null,\"category\":\"business\",\"language\":\"pt\",\"country\":\"br\",\"published_at\":\"2021-03-11T21:26:41+00:00\"},{\"author\":\"Ricardo Bonfim\",\"title\":\"Ibovespa tem leve alta seguindo recupera\\u00e7\\u00e3o de Wall Street ap\\u00f3s tombo da v\\u00e9spera; d\\u00f3lar cai a R$ 5,53\",\"description\":\"Mercado registra desempenho positivo depois de um dia muito ruim na esteira da disparada nos yields das treasuriesThe post Ibovespa tem leve alta seguindo recupera\\u00e7\\u00e3o de Wall Street ap\\u00f3s tombo da v\\u00e9spera; d\\u00f3lar cai a R$ 5,53 appeared first on InfoMoney.\",\"url\":\"https:\\/\\/www.infomoney.com.br\\/mercados\\/ibovespa-tem-leve-alta-seguindo-recuperacao-de-wall-street-apos-tombo-da-vespera-dolar-cai-a-r-553\\/\",\"source\":\"InfoMoney\",\"image\":null,\"category\":\"business\",\"language\":\"pt\",\"country\":\"br\",\"published_at\":\"2021-03-19T13:21:17+00:00\"},{\"author\":\"Ricardo Bonfim\",\"title\":\"Ibovespa Futuro sobe descolado do exterior com investidores refletindo resultados e ap\\u00f3s forte queda da v\\u00e9spera; d\\u00f3lar sobe a R$ 5,53\",\"description\":\"Pr\\u00e9-market mostra desempenho mais forte gra\\u00e7as aos n\\u00fameros do quarto trimestre de empresas brasileirasThe post Ibovespa Futuro sobe descolado do exterior com investidores refletindo resultados e ap\\u00f3s forte queda da v\\u00e9spera; d\\u00f3lar sobe a R$ 5,53 appeared first on InfoMoney.\",\"url\":\"https:\\/\\/www.infomoney.com.br\\/mercados\\/ibovespa-futuro-sobe-descolado-do-exterior-com-investidores-refletindo-resultados-e-apos-forte-queda-da-vespera-dolar-sobe-a-r-553\\/\",\"source\":\"InfoMoney\",\"image\":null,\"category\":\"business\",\"language\":\"pt\",\"country\":\"br\",\"published_at\":\"2021-02-26T12:24:17+00:00\"},{\"author\":\"Reda\\u00e7\\u00e3o\",\"title\":\"MB Associados revisa proje\\u00e7\\u00f5es e v\\u00ea d\\u00f3lar superando R$ 6 no curto prazo com maior polariza\\u00e7\\u00e3o entre Lula e Bolsonaro\",\"description\":\"Estimativa para o d\\u00f3lar ao final de 2021 passou de R$ 5,40 para R$ 5,60, enquanto da Selic foi de 4% para 5,5% e para o IPCA foi de 4% para 4,3%The post MB Associados revisa proje\\u00e7\\u00f5es e v\\u00ea d\\u00f3lar superando R$ 6 no curto prazo com maior polariza\\u00e7\\u00e3o entre Lula e Bolsonaro appeared first on InfoMoney.\",\"url\":\"https:\\/\\/www.infomoney.com.br\\/mercados\\/mb-associados-revisa-projecoes-e-ve-dolar-superando-r-6-no-curto-prazo-com-maior-polarizacao-entre-lula-e-bolsonaro\\/\",\"source\":\"InfoMoney\",\"image\":null,\"category\":\"business\",\"language\":\"pt\",\"country\":\"br\",\"published_at\":\"2021-03-09T20:10:08+00:00\"},{\"author\":\"Ricardo Bonfim\",\"title\":\"Ibovespa segue exterior e cai ap\\u00f3s forte alta do dia anterior por aprova\\u00e7\\u00e3o da PEC Emergencial; d\\u00f3lar sobe a R$ 5,56\",\"description\":\"Mercado registra desempenho negativo na esteira do avan\\u00e7o no rendimento das treasuries, que pressiona Wall StreetThe post Ibovespa segue exterior e cai ap\\u00f3s forte alta do dia anterior por aprova\\u00e7\\u00e3o da PEC Emergencial; d\\u00f3lar sobe a R$ 5,56 appeared first on InfoMoney.\",\"url\":\"https:\\/\\/www.infomoney.com.br\\/mercados\\/ibovespa-segue-exterior-e-cai-apos-forte-alta-do-dia-anterior-por-aprovacao-da-pec-emergencial-dolar-sobe-a-r-556\\/\",\"source\":\"InfoMoney\",\"image\":null,\"category\":\"business\",\"language\":\"pt\",\"country\":\"br\",\"published_at\":\"2021-03-12T13:12:59+00:00\"},{\"author\":\"Ricardo Bonfim\",\"title\":\"Ibovespa Futuro cai diante de temor com 3\\u00aa onda da Covid na Europa e troca no BC da Turquia; d\\u00f3lar sobe a R$ 5,50\",\"description\":\"Pr\\u00e9-market mostra perdas em meio a uma geral avers\\u00e3o a risco sobre emergentesThe post Ibovespa Futuro cai diante de temor com 3\\u00aa onda da Covid na Europa e troca no BC da Turquia; d\\u00f3lar sobe a R$ 5,50 appeared first on InfoMoney.\",\"url\":\"https:\\/\\/www.infomoney.com.br\\/mercados\\/ibovespa-futuro-cai-diante-de-temor-com-3a-onda-da-covid-na-europa-e-troca-no-bc-da-turquia-dolar-sobe-a-r-550\\/\",\"source\":\"InfoMoney\",\"image\":null,\"category\":\"business\",\"language\":\"pt\",\"country\":\"br\",\"published_at\":\"2021-03-22T12:19:28+00:00\"},{\"author\":\"marianafonseca\",\"title\":\"D\\u00f3lar turismo no cart\\u00e3o pr\\u00e9-pago bate R$ 6,44; euro turismo chega a R$ 7,67 e libra a R$ 9,30. O que fazer?\",\"description\":\"Saiba como encontrar a melhor cota\\u00e7\\u00e3o do d\\u00f3lar turismo e de outras moedas, as diferen\\u00e7as em rela\\u00e7\\u00e3o ao d\\u00f3lar comercial e por que o c\\u00e2mbio vem subindo tantoThe post D\\u00f3lar turismo no cart\\u00e3o pr\\u00e9-pago bate R$ 6,44; euro turismo chega a R$ 7,67 e libra a R$ 9,30. O que fazer? appeared first on InfoMoney.\",\"url\":\"https:\\/\\/www.infomoney.com.br\\/minhas-financas\\/dolar-turismo-no-cartao-pre-pago-bate-r-644-euro-turismo-chega-a-r-767-e-libra-a-r-930-o-que-fazer\\/\",\"source\":\"InfoMoney\",\"image\":null,\"category\":\"business\",\"language\":\"pt\",\"country\":\"br\",\"published_at\":\"2021-03-11T12:13:27+00:00\"},{\"author\":\"Ricardo Bonfim\",\"title\":\"Ibovespa Futuro tem leve alta ap\\u00f3s tombo na v\\u00e9spera enquanto investidores monitoram mudan\\u00e7a no BB; d\\u00f3lar cai a R$ 5,53\",\"description\":\"Pr\\u00e9-market registra varia\\u00e7\\u00e3o positiva em meio \\u00e0 retra\\u00e7\\u00e3o no yield das treasuries, que chegaram a pagar 1,75% ao ano na v\\u00e9speraThe post Ibovespa Futuro tem leve alta ap\\u00f3s tombo na v\\u00e9spera enquanto investidores monitoram mudan\\u00e7a no BB; d\\u00f3lar cai a R$ 5,53 appeared first on InfoMoney.\",\"url\":\"https:\\/\\/www.infomoney.com.br\\/mercados\\/ibovespa-futuro-tem-leve-alta-apos-tombo-na-vespera-enquanto-investidores-monitoram-mudanca-no-bb-dolar-cai-a-r-553\\/\",\"source\":\"InfoMoney\",\"image\":null,\"category\":\"business\",\"language\":\"pt\",\"country\":\"br\",\"published_at\":\"2021-03-19T12:15:59+00:00\"},{\"author\":\"Bloomberg\",\"title\":\"Pa\\u00edses com r\\u00e1pida distribui\\u00e7\\u00e3o de vacinas fortalecem moedas\",\"description\":\"Dos 5 pa\\u00edses que lideram o combate \\u00e0 Covid-19, todos, exceto um, registraram ganhos em suas moedas em rela\\u00e7\\u00e3o ao d\\u00f3lar em janeiro\\nThe post Pa\\u00edses com r\\u00e1pida distribui\\u00e7\\u00e3o de vacinas fortalecem moedas appeared first on InfoMoney.\",\"url\":\"https:\\/\\/www.infomoney.com.br\\/mercados\\/paises-com-rapida-distribuicao-de-vacinas-fortalecem-moedas\\/\",\"source\":\"InfoMoney\",\"image\":null,\"category\":\"business\",\"language\":\"pt\",\"country\":\"br\",\"published_at\":\"2021-02-04T17:57:41+00:00\"},{\"author\":\"Bloomberg\",\"title\":\"Pa\\u00edses com r\\u00e1pida distribui\\u00e7\\u00e3o de vacinas fortalecem moedas\",\"description\":\"Dos 5 pa\\u00edses que lideram o combate \\u00e0 Covid-19, todos, exceto um, registraram ganhos em suas moedas em rela\\u00e7\\u00e3o ao d\\u00f3lar em janeiro\\nThe post Pa\\u00edses com r\\u00e1pida distribui\\u00e7\\u00e3o de vacinas fortalecem moedas appeared first on InfoMoney.\",\"url\":\"https:\\/\\/www.infomoney.com.br\\/mercados\\/paises-com-rapida-distribuicao-de-vacinas-fortalecem-moedas\\/\",\"source\":\"InfoMoney\",\"image\":null,\"category\":\"business\",\"language\":\"pt\",\"country\":\"br\",\"published_at\":\"2021-02-04T17:57:39+00:00\"},{\"author\":\"Bloomberg\",\"title\":\"Pa\\u00edses com r\\u00e1pida distribui\\u00e7\\u00e3o de vacinas fortalecem moedas\",\"description\":\"Dos 5 pa\\u00edses que lideram o combate \\u00e0 Covid-19, todos, exceto um, registraram ganhos em suas moedas em rela\\u00e7\\u00e3o ao d\\u00f3lar em janeiro\\nThe post Pa\\u00edses com r\\u00e1pida distribui\\u00e7\\u00e3o de vacinas fortalecem moedas appeared first on InfoMoney.\",\"url\":\"https:\\/\\/www.infomoney.com.br\\/mercados\\/paises-com-rapida-distribuicao-de-vacinas-fortalecem-moedas\\/\",\"source\":\"InfoMoney\",\"image\":null,\"category\":\"business\",\"language\":\"pt\",\"country\":\"br\",\"published_at\":\"2021-02-04T17:57:41+00:00\"},{\"author\":\"Bloomberg\",\"title\":\"Pa\\u00edses com r\\u00e1pida distribui\\u00e7\\u00e3o de vacinas fortalecem moedas\",\"description\":\"Dos 5 pa\\u00edses que lideram o combate \\u00e0 Covid-19, todos, exceto um, registraram ganhos em suas moedas em rela\\u00e7\\u00e3o ao d\\u00f3lar em janeiro\\nThe post Pa\\u00edses com r\\u00e1pida distribui\\u00e7\\u00e3o de vacinas fortalecem moedas appeared first on InfoMoney.\",\"url\":\"https:\\/\\/www.infomoney.com.br\\/mercados\\/paises-com-rapida-distribuicao-de-vacinas-fortalecem-moedas\\/\",\"source\":\"InfoMoney\",\"image\":null,\"category\":\"business\",\"language\":\"pt\",\"country\":\"br\",\"published_at\":\"2021-02-04T17:57:41+00:00\"},{\"author\":\"Bloomberg\",\"title\":\"Pa\\u00edses com r\\u00e1pida distribui\\u00e7\\u00e3o de vacinas fortalecem moedas\",\"description\":\"Dos 5 pa\\u00edses que lideram o combate \\u00e0 Covid-19, todos, exceto um, registraram ganhos em suas moedas em rela\\u00e7\\u00e3o ao d\\u00f3lar em janeiro\\nThe post Pa\\u00edses com r\\u00e1pida distribui\\u00e7\\u00e3o de vacinas fortalecem moedas appeared first on InfoMoney.\",\"url\":\"https:\\/\\/www.infomoney.com.br\\/mercados\\/paises-com-rapida-distribuicao-de-vacinas-fortalecem-moedas\\/\",\"source\":\"InfoMoney\",\"image\":null,\"category\":\"business\",\"language\":\"pt\",\"country\":\"br\",\"published_at\":\"2021-02-04T17:57:41+00:00\"},{\"author\":\"Bloomberg\",\"title\":\"Pa\\u00edses com r\\u00e1pida distribui\\u00e7\\u00e3o de vacinas fortalecem moedas\",\"description\":\"Dos 5 pa\\u00edses que lideram o combate \\u00e0 Covid-19, todos, exceto um, registraram ganhos em suas moedas em rela\\u00e7\\u00e3o ao d\\u00f3lar em janeiro\\nThe post Pa\\u00edses com r\\u00e1pida distribui\\u00e7\\u00e3o de vacinas fortalecem moedas appeared first on InfoMoney.\",\"url\":\"https:\\/\\/www.infomoney.com.br\\/mercados\\/paises-com-rapida-distribuicao-de-vacinas-fortalecem-moedas\\/\",\"source\":\"InfoMoney\",\"image\":null,\"category\":\"business\",\"language\":\"pt\",\"country\":\"br\",\"published_at\":\"2021-02-04T17:57:41+00:00\"},{\"author\":\"Bloomberg\",\"title\":\"Pa\\u00edses com r\\u00e1pida distribui\\u00e7\\u00e3o de vacinas fortalecem moedas\",\"description\":\"Dos 5 pa\\u00edses que lideram o combate \\u00e0 Covid-19, todos, exceto um, registraram ganhos em suas moedas em rela\\u00e7\\u00e3o ao d\\u00f3lar em janeiro\\nThe post Pa\\u00edses com r\\u00e1pida distribui\\u00e7\\u00e3o de vacinas fortalecem moedas appeared first on InfoMoney.\",\"url\":\"https:\\/\\/www.infomoney.com.br\\/mercados\\/paises-com-rapida-distribuicao-de-vacinas-fortalecem-moedas\\/\",\"source\":\"InfoMoney\",\"image\":null,\"category\":\"business\",\"language\":\"pt\",\"country\":\"br\",\"published_at\":\"2021-02-04T17:57:41+00:00\"},{\"author\":\"Bloomberg\",\"title\":\"Pa\\u00edses com r\\u00e1pida distribui\\u00e7\\u00e3o de vacinas fortalecem moedas\",\"description\":\"Dos 5 pa\\u00edses que lideram o combate \\u00e0 Covid-19, todos, exceto um, registraram ganhos em suas moedas em rela\\u00e7\\u00e3o ao d\\u00f3lar em janeiro\\nThe post Pa\\u00edses com r\\u00e1pida distribui\\u00e7\\u00e3o de vacinas fortalecem moedas appeared first on InfoMoney.\",\"url\":\"https:\\/\\/www.infomoney.com.br\\/mercados\\/paises-com-rapida-distribuicao-de-vacinas-fortalecem-moedas\\/\",\"source\":\"InfoMoney\",\"image\":null,\"category\":\"business\",\"language\":\"pt\",\"country\":\"br\",\"published_at\":\"2021-02-04T17:57:41+00:00\"},{\"author\":\"Bloomberg\",\"title\":\"Pa\\u00edses com r\\u00e1pida distribui\\u00e7\\u00e3o de vacinas fortalecem moedas\",\"description\":\"Dos 5 pa\\u00edses que lideram o combate \\u00e0 Covid-19, todos, exceto um, registraram ganhos em suas moedas em rela\\u00e7\\u00e3o ao d\\u00f3lar em janeiro\\nThe post Pa\\u00edses com r\\u00e1pida distribui\\u00e7\\u00e3o de vacinas fortalecem moedas appeared first on InfoMoney.\",\"url\":\"https:\\/\\/www.infomoney.com.br\\/mercados\\/paises-com-rapida-distribuicao-de-vacinas-fortalecem-moedas\\/\",\"source\":\"InfoMoney\",\"image\":null,\"category\":\"business\",\"language\":\"pt\",\"country\":\"br\",\"published_at\":\"2021-02-04T17:57:41+00:00\"},{\"author\":\"Bloomberg\",\"title\":\"Pa\\u00edses com r\\u00e1pida distribui\\u00e7\\u00e3o de vacinas fortalecem moedas\",\"description\":\"Dos 5 pa\\u00edses que lideram o combate \\u00e0 Covid-19, todos, exceto um, registraram ganhos em suas moedas em rela\\u00e7\\u00e3o ao d\\u00f3lar em janeiro\\nThe post Pa\\u00edses com r\\u00e1pida distribui\\u00e7\\u00e3o de vacinas fortalecem moedas appeared first on InfoMoney.\",\"url\":\"https:\\/\\/www.infomoney.com.br\\/mercados\\/paises-com-rapida-distribuicao-de-vacinas-fortalecem-moedas\\/\",\"source\":\"InfoMoney\",\"image\":null,\"category\":\"business\",\"language\":\"pt\",\"country\":\"br\",\"published_at\":\"2021-02-04T17:57:41+00:00\"},{\"author\":\"Bloomberg\",\"title\":\"Pa\\u00edses com r\\u00e1pida distribui\\u00e7\\u00e3o de vacinas fortalecem moedas\",\"description\":\"Dos 5 pa\\u00edses que lideram o combate \\u00e0 Covid-19, todos, exceto um, registraram ganhos em suas moedas em rela\\u00e7\\u00e3o ao d\\u00f3lar em janeiro\\nThe post Pa\\u00edses com r\\u00e1pida distribui\\u00e7\\u00e3o de vacinas fortalecem moedas appeared first on InfoMoney.\",\"url\":\"https:\\/\\/www.infomoney.com.br\\/mercados\\/paises-com-rapida-distribuicao-de-vacinas-fortalecem-moedas\\/\",\"source\":\"InfoMoney\",\"image\":null,\"category\":\"business\",\"language\":\"pt\",\"country\":\"br\",\"published_at\":\"2021-02-04T17:57:41+00:00\"},{\"author\":\"Bloomberg\",\"title\":\"Pa\\u00edses com r\\u00e1pida distribui\\u00e7\\u00e3o de vacinas fortalecem moedas\",\"description\":\"Dos 5 pa\\u00edses que lideram o combate \\u00e0 Covid-19, todos, exceto um, registraram ganhos em suas moedas em rela\\u00e7\\u00e3o ao d\\u00f3lar em janeiro\\nThe post Pa\\u00edses com r\\u00e1pida distribui\\u00e7\\u00e3o de vacinas fortalecem moedas appeared first on InfoMoney.\",\"url\":\"https:\\/\\/www.infomoney.com.br\\/mercados\\/paises-com-rapida-distribuicao-de-vacinas-fortalecem-moedas\\/\",\"source\":\"InfoMoney\",\"image\":null,\"category\":\"business\",\"language\":\"pt\",\"country\":\"br\",\"published_at\":\"2021-02-04T17:57:41+00:00\"},{\"author\":\"Bloomberg\",\"title\":\"Pa\\u00edses com r\\u00e1pida distribui\\u00e7\\u00e3o de vacinas fortalecem moedas\",\"description\":\"Dos 5 pa\\u00edses que lideram o combate \\u00e0 Covid-19, todos, exceto um, registraram ganhos em suas moedas em rela\\u00e7\\u00e3o ao d\\u00f3lar em janeiro\\nThe post Pa\\u00edses com r\\u00e1pida distribui\\u00e7\\u00e3o de vacinas fortalecem moedas appeared first on InfoMoney.\",\"url\":\"https:\\/\\/www.infomoney.com.br\\/mercados\\/paises-com-rapida-distribuicao-de-vacinas-fortalecem-moedas\\/\",\"source\":\"InfoMoney\",\"image\":null,\"category\":\"business\",\"language\":\"pt\",\"country\":\"br\",\"published_at\":\"2021-02-04T17:57:41+00:00\"},{\"author\":\"lucasbombana\",\"title\":\"Qual a melhor alternativa para fazer o hedge da sua carteira hoje? Gestores contam suas estrat\\u00e9gias\",\"description\":\"Aumentar o caixa, expandir a aloca\\u00e7\\u00e3o em d\\u00f3lar, recorrer aos derivativos e procurar ativos mais l\\u00edquidos est\\u00e3o entre as op\\u00e7\\u00f5es mencionadasThe post Qual a melhor alternativa para fazer o hedge da sua carteira hoje? Gestores contam suas estrat\\u00e9gias appeared first on InfoMoney.\",\"url\":\"https:\\/\\/www.infomoney.com.br\\/onde-investir\\/qual-a-melhor-alternativa-para-fazer-o-hedge-da-sua-carteira-hoje-gestores-contam-suas-estrategias\\/\",\"source\":\"InfoMoney\",\"image\":null,\"category\":\"business\",\"language\":\"pt\",\"country\":\"br\",\"published_at\":\"2021-03-11T18:04:44+00:00\"},{\"author\":\"Reda\\u00e7\\u00e3o\",\"title\":\"Pre\\u00e7os do petr\\u00f3leo caem mais de 7% e registram pior sess\\u00e3o desde setembro\",\"description\":\"D\\u00f3lar mais forte no exterior, aumento adicional nos estoques da commodity e de combust\\u00edveis nos Estados Unidos e notici\\u00e1rio sobre a Covid-19 guiam quedaThe post Pre\\u00e7os do petr\\u00f3leo caem mais de 7% e registram pior sess\\u00e3o desde setembro appeared first on InfoMoney.\",\"url\":\"https:\\/\\/www.infomoney.com.br\\/mercados\\/precos-do-petroleo-caem-mais-de-7-e-registram-pior-pregao-desde-setembro\\/\",\"source\":\"InfoMoney\",\"image\":null,\"category\":\"business\",\"language\":\"pt\",\"country\":\"br\",\"published_at\":\"2021-03-18T19:04:07+00:00\"},{\"author\":\"Ricardo Bonfim\",\"title\":\"Quais s\\u00e3o as primeiras impress\\u00f5es do mercado sobre a anula\\u00e7\\u00e3o das condena\\u00e7\\u00f5es de Lula pelo STF? 5 analistas comentam\",\"description\":\"Sess\\u00e3o \\u00e9 de forte perda para o Ibovespa e de disparada para o d\\u00f3lar, com analistas e economistas vendo aumento da chance de populismo no radarThe post Quais s\\u00e3o as primeiras impress\\u00f5es do mercado sobre a anula\\u00e7\\u00e3o das condena\\u00e7\\u00f5es de Lula pelo STF? 5 analistas comentam appeared first on InfoMoney.\",\"url\":\"https:\\/\\/www.infomoney.com.br\\/mercados\\/quais-sao-as-primeiras-impressoes-do-mercado-sobre-a-anulacao-das-condenacoes-de-lula-pelo-stf-5-analistas-comentam\\/\",\"source\":\"InfoMoney\",\"image\":null,\"category\":\"business\",\"language\":\"pt\",\"country\":\"br\",\"published_at\":\"2021-03-08T20:38:18+00:00\"},{\"author\":null,\"title\":\"Banco Central registra lucro de R$ 469 bilh\\u00f5es em 2020\",\"description\":\"Alta do d\\u00f3lar gerou a maior parte do resultado positivo, por conta da valoriza\\u00e7\\u00e3o das reservas internacionais. Parte do resultado positivo j\\u00e1 foi repassado ao Tesouro para ajudar na administra\\u00e7\\u00e3o da d\\u00edvida p\\u00fablica. O Banco Central informou que registrou um lucro de R$ 469,611 bilh\\u00f5es em 2020. O balan\\u00e7o do BC foi aprovado nesta quinta-feira (26) pelo Conselho Monet\\u00e1rio Nacional (CMN), formado pelos ministros da Economia, pelo secret\\u00e1rio especial de Fazenda da pasta e pelo presidente do BC. Segundo o governo, no primeiro semestre de 2020 o BC teve lucro de R$ 503,22 bilh\\u00f5es, enquanto...\",\"url\":\"https:\\/\\/g1.globo.com\\/economia\\/noticia\\/2021\\/02\\/26\\/banco-central-registra-lucro-de-r-469-bilhoes-em-2020.ghtml\",\"source\":\"G1 - Economia\",\"image\":null,\"category\":\"business\",\"language\":\"pt\",\"country\":\"br\",\"published_at\":\"2021-02-26T17:34:28+00:00\"},{\"author\":null,\"title\":\"Instagram remove centenas de contas hackeadas em raz\\u00e3o de nomes de usu\\u00e1rios valiosos\",\"description\":\"Perfis com grande alcance podem ser vendidos por dezenas de milhares de d\\u00f3lares.  Instagram remove centenas de contas hackeadas\\nThiago Lavado\\/G1\\nO Instagram excluiu nesta quinta-feira (4) centenas de contas que foram hackeadas e vendidas por causa de seus nomes de usu\\u00e1rio de alto valor. A rede social tamb\\u00e9m eliminou contas de pessoas por tr\\u00e1s dessa a\\u00e7\\u00e3o.\\nOs nomes de usu\\u00e1rio, que podem ser vendidos por dezenas de milhares de d\\u00f3lares, costumam ser palavras curtas valorizadas por sua escassez, como @food ou letras como @B. Empresas de m\\u00eddia social, incluindo o Instagram, t\\u00eam regras contra a venda de contas.\\nUma porta-voz do Facebook, grupo dono do Instagram, disse que as pessoas envolvidas nesta pr\\u00e1tica s\\u00e3o figuras populares em uma comunidade conhecida como OGUsers, que troca nomes de usu\\u00e1rios desej\\u00e1veis por sites populares do Twitter ao Netflix por dinheiro e influ\\u00eancia.\\nAs pessoas acusadas de participar de um grande ataque ao Twitter no ano passado, quando uma s\\u00e9rie de contas de personalidades e pol\\u00edticos foram sequestradas, tamb\\u00e9m t\\u00eam liga\\u00e7\\u00f5es com essa pr\\u00e1tica e com o f\\u00f3rum online OGUsers.\\nFoi a primeira vez que o Facebook compartilhou suas a\\u00e7\\u00f5es de fiscaliza\\u00e7\\u00e3o sobre essa atividade, embora tenha afirmado que esteja removendo continuamente contas que promovem tal pr\\u00e1tica.\\nA porta-voz do Facebook disse que \\u0027phishing\\u0027 e troca de SIM - onde os hackers obt\\u00eam acesso a um telefone para entrar nas contas associadas a ele - s\\u00e3o formas populares de roubar nomes de usu\\u00e1rio do Instagram. Mas ela disse que o Facebook tamb\\u00e9m registrou um aumento em m\\u00e9todos como ass\\u00e9dio e extors\\u00e3o.\\nDownload seguro: saiba como baixar programas leg\\u00edtimos\\nO Facebook, que afirmou estar trabalhando com a pol\\u00edcia, disse que muitas pessoas envolvidas nessa pr\\u00e1tica s\\u00e3o menores de idade. A companhia disse que enviou alertas para cerca de uma dezena de pessoas por tr\\u00e1s do ataque hacker e da venda de cerca de 400 contas.\\nAs contas desativadas inclu\\u00edam as de swappers, que movem os nomes de usu\\u00e1rio para novas contas do Instagram e intermedi\\u00e1rios, que supervisionam as transa\\u00e7\\u00f5es entre os compradores e vendedores de nomes de usu\\u00e1rio e recebem uma parte do dinheiro, geralmente em bitcoin.\\nA\\u00e7\\u00f5es de Twitter e TikTok\\nO Twitter e o TikTok tamb\\u00e9m disseram que recentemente tomaram medidas contra OGUsers. O Twitter tamb\\u00e9m suspendeu permanentemente uma s\\u00e9rie de contas da rede OGUsers, disse um porta-voz, acrescentando que sua investiga\\u00e7\\u00e3o foi feita em conjunto com o Facebook. \\nUma porta-voz da TikTok disse que recentemente recuperou uma s\\u00e9rie de nomes de usu\\u00e1rio que OGUsers registraram com o objetivo de vend\\u00ea-los com lucro.\",\"url\":\"https:\\/\\/g1.globo.com\\/economia\\/tecnologia\\/noticia\\/2021\\/02\\/04\\/instagram-remove-centenas-de-contas-hackeadas-em-razao-de-nomes-de-usuarios-valiosos.ghtml\",\"source\":\"G1 - Economia\",\"image\":\"https:\\/\\/s2.glbimg.com\\/68PBjmoUWsSXKR95UxuvBYjPWPI=\\/i.s3.glbimg.com\\/v1\\/AUTH_59edd422c0c84a879bd37670ae4f538a\\/internal_photos\\/bs\\/2019\\/q\\/u\\/c5EdnoTBe2XK3ZAKSIwg\\/instagram-thiagolavadog1.jpg\",\"category\":\"business\",\"language\":\"pt\",\"country\":\"br\",\"published_at\":\"2021-02-04T20:10:30+00:00\"}]}\n"
          ],
          "name": "stdout"
        }
      ]
    },
    {
      "cell_type": "code",
      "metadata": {
        "id": "nhbXvf_9s9dN"
      },
      "source": [
        "\n",
        "news_mediastack\n",
        "import json\n",
        "mediastack_json = json.loads(news_mediastack)['data']\n",
        "mediastack_json\n",
        "pd_text_media = pd.DataFrame(mediastack_json)\n",
        "pd_text\n",
        "\n",
        "pd_text_media.to_csv (\"/content/drive/MyDrive/ai/medianews/\"+keyword+data_news+'.csv', index = False, header=True)"
      ],
      "execution_count": null,
      "outputs": []
    },
    {
      "cell_type": "code",
      "metadata": {
        "id": "u17NvlXVtZAA",
        "colab": {
          "base_uri": "https://localhost:8080/",
          "height": 529
        },
        "outputId": "3e6806ae-5412-4b66-afe2-513a8c8ed1cd"
      },
      "source": [
        "pd_text_media\n",
        "pd_text_media.rename(columns = {\"published_at\": \"date\"},inplace=True)\n",
        "\n",
        "pd_text_media['date'] = pd_text_media['date'].str.slice(stop=10)\n",
        "\n",
        "pd_text_media.head(10)"
      ],
      "execution_count": null,
      "outputs": [
        {
          "output_type": "execute_result",
          "data": {
            "text/html": [
              "<div>\n",
              "<style scoped>\n",
              "    .dataframe tbody tr th:only-of-type {\n",
              "        vertical-align: middle;\n",
              "    }\n",
              "\n",
              "    .dataframe tbody tr th {\n",
              "        vertical-align: top;\n",
              "    }\n",
              "\n",
              "    .dataframe thead th {\n",
              "        text-align: right;\n",
              "    }\n",
              "</style>\n",
              "<table border=\"1\" class=\"dataframe\">\n",
              "  <thead>\n",
              "    <tr style=\"text-align: right;\">\n",
              "      <th></th>\n",
              "      <th>author</th>\n",
              "      <th>title</th>\n",
              "      <th>description</th>\n",
              "      <th>url</th>\n",
              "      <th>source</th>\n",
              "      <th>image</th>\n",
              "      <th>category</th>\n",
              "      <th>language</th>\n",
              "      <th>country</th>\n",
              "      <th>date</th>\n",
              "    </tr>\n",
              "  </thead>\n",
              "  <tbody>\n",
              "    <tr>\n",
              "      <th>0</th>\n",
              "      <td>None</td>\n",
              "      <td>Dólar</td>\n",
              "      <td>Na quinta-feira (25), moeda norte-americana fe...</td>\n",
              "      <td>https://g1.globo.com/economia/noticia/2021/02/...</td>\n",
              "      <td>G1 - Economia</td>\n",
              "      <td>https://s2.glbimg.com/mwpwBWs8149TUS_xgsMaBoKs...</td>\n",
              "      <td>business</td>\n",
              "      <td>pt</td>\n",
              "      <td>br</td>\n",
              "      <td>2021-02-26</td>\n",
              "    </tr>\n",
              "    <tr>\n",
              "      <th>1</th>\n",
              "      <td>Bloomberg</td>\n",
              "      <td>Iniciativa de dólar digital do Fed preocupa Wa...</td>\n",
              "      <td>Bancos, empresas de cartão de crédito e proces...</td>\n",
              "      <td>https://www.infomoney.com.br/mercados/iniciati...</td>\n",
              "      <td>InfoMoney</td>\n",
              "      <td>None</td>\n",
              "      <td>business</td>\n",
              "      <td>pt</td>\n",
              "      <td>br</td>\n",
              "      <td>2021-03-22</td>\n",
              "    </tr>\n",
              "    <tr>\n",
              "      <th>2</th>\n",
              "      <td>Bloomberg</td>\n",
              "      <td>Mercado diz que só aumento agressivo da Selic ...</td>\n",
              "      <td>Operadores de câmbio dizem que seria necessári...</td>\n",
              "      <td>https://www.infomoney.com.br/onde-investir/mer...</td>\n",
              "      <td>InfoMoney</td>\n",
              "      <td>None</td>\n",
              "      <td>business</td>\n",
              "      <td>pt</td>\n",
              "      <td>br</td>\n",
              "      <td>2021-03-15</td>\n",
              "    </tr>\n",
              "    <tr>\n",
              "      <th>3</th>\n",
              "      <td>Ricardo Bonfim</td>\n",
              "      <td>Ibovespa fecha em queda de 0,7% antes de “Supe...</td>\n",
              "      <td>Mercado registrou perdas em um pregão que foi ...</td>\n",
              "      <td>https://www.infomoney.com.br/mercados/ibovespa...</td>\n",
              "      <td>InfoMoney</td>\n",
              "      <td>None</td>\n",
              "      <td>business</td>\n",
              "      <td>pt</td>\n",
              "      <td>br</td>\n",
              "      <td>2021-03-16</td>\n",
              "    </tr>\n",
              "    <tr>\n",
              "      <th>4</th>\n",
              "      <td>Ricardo Bonfim</td>\n",
              "      <td>Ibovespa cai com expectativa por informações s...</td>\n",
              "      <td>Mercado registra perdas depois do otimismo da ...</td>\n",
              "      <td>https://www.infomoney.com.br/mercados/ibovespa...</td>\n",
              "      <td>InfoMoney</td>\n",
              "      <td>None</td>\n",
              "      <td>business</td>\n",
              "      <td>pt</td>\n",
              "      <td>br</td>\n",
              "      <td>2021-02-12</td>\n",
              "    </tr>\n",
              "    <tr>\n",
              "      <th>5</th>\n",
              "      <td>Bloomberg</td>\n",
              "      <td>Oi aumenta incentivo financeiro a detentores d...</td>\n",
              "      <td>A Oi elevou a oferta de US$ 5 por cada US$ 1.0...</td>\n",
              "      <td>https://www.infomoney.com.br/mercados/oi-aumen...</td>\n",
              "      <td>InfoMoney</td>\n",
              "      <td>None</td>\n",
              "      <td>business</td>\n",
              "      <td>pt</td>\n",
              "      <td>br</td>\n",
              "      <td>2021-03-23</td>\n",
              "    </tr>\n",
              "    <tr>\n",
              "      <th>6</th>\n",
              "      <td>Reuters</td>\n",
              "      <td>Dólar tem maior série de baixas desde novembro...</td>\n",
              "      <td>O real revezou com a lira turca o posto de moe...</td>\n",
              "      <td>https://www.infomoney.com.br/mercados/dolar-te...</td>\n",
              "      <td>InfoMoney</td>\n",
              "      <td>None</td>\n",
              "      <td>business</td>\n",
              "      <td>pt</td>\n",
              "      <td>br</td>\n",
              "      <td>2021-03-19</td>\n",
              "    </tr>\n",
              "    <tr>\n",
              "      <th>7</th>\n",
              "      <td>Beatriz Cutait</td>\n",
              "      <td>Não aposte contra o dólar, mas reforce a expos...</td>\n",
              "      <td>Apesar de alta de juros no Brasil, gestores de...</td>\n",
              "      <td>https://www.infomoney.com.br/onde-investir/sem...</td>\n",
              "      <td>InfoMoney</td>\n",
              "      <td>None</td>\n",
              "      <td>business</td>\n",
              "      <td>pt</td>\n",
              "      <td>br</td>\n",
              "      <td>2021-03-22</td>\n",
              "    </tr>\n",
              "    <tr>\n",
              "      <th>8</th>\n",
              "      <td>Estadão Conteúdo</td>\n",
              "      <td>Petróleo é commodity, cobrada em dólar e não h...</td>\n",
              "      <td>Presidente da Petrobras defendeu novamente a p...</td>\n",
              "      <td>https://www.infomoney.com.br/mercados/petroleo...</td>\n",
              "      <td>InfoMoney</td>\n",
              "      <td>None</td>\n",
              "      <td>business</td>\n",
              "      <td>pt</td>\n",
              "      <td>br</td>\n",
              "      <td>2021-02-25</td>\n",
              "    </tr>\n",
              "    <tr>\n",
              "      <th>9</th>\n",
              "      <td>Ricardo Bonfim</td>\n",
              "      <td>Ibovespa cai com investidores cautelosos antes...</td>\n",
              "      <td>Mercado registra perdas em dia de muita atençã...</td>\n",
              "      <td>https://www.infomoney.com.br/mercados/ibovespa...</td>\n",
              "      <td>InfoMoney</td>\n",
              "      <td>None</td>\n",
              "      <td>business</td>\n",
              "      <td>pt</td>\n",
              "      <td>br</td>\n",
              "      <td>2021-03-17</td>\n",
              "    </tr>\n",
              "  </tbody>\n",
              "</table>\n",
              "</div>"
            ],
            "text/plain": [
              "             author  ...        date\n",
              "0              None  ...  2021-02-26\n",
              "1         Bloomberg  ...  2021-03-22\n",
              "2         Bloomberg  ...  2021-03-15\n",
              "3    Ricardo Bonfim  ...  2021-03-16\n",
              "4    Ricardo Bonfim  ...  2021-02-12\n",
              "5         Bloomberg  ...  2021-03-23\n",
              "6           Reuters  ...  2021-03-19\n",
              "7    Beatriz Cutait  ...  2021-03-22\n",
              "8  Estadão Conteúdo  ...  2021-02-25\n",
              "9    Ricardo Bonfim  ...  2021-03-17\n",
              "\n",
              "[10 rows x 10 columns]"
            ]
          },
          "metadata": {
            "tags": []
          },
          "execution_count": 281
        }
      ]
    },
    {
      "cell_type": "code",
      "metadata": {
        "id": "c-gPF1u_kjxQ"
      },
      "source": [
        "pd_text_media.head(10)\n",
        "pd_text_media['date'] = pd.to_datetime(pd_text_media['date'], format='%Y-%m-%d')\n",
        "pd_text_media['date'] = pd_text_media['date'].dt.normalize()\n",
        "# pd_merge.head(10)"
      ],
      "execution_count": null,
      "outputs": []
    },
    {
      "cell_type": "markdown",
      "metadata": {
        "id": "z03K8zqpRrzI"
      },
      "source": [
        "Verifica as palavras mais usadas por var-dolar"
      ]
    },
    {
      "cell_type": "code",
      "metadata": {
        "id": "l4qHqrT1lXxh",
        "colab": {
          "base_uri": "https://localhost:8080/"
        },
        "outputId": "06ac02cb-e21e-44bc-b632-cbdaeff2933d"
      },
      "source": [
        "pd_text_media['title'] = hero.remove_stopwords(pd_text_media['title'], stopwords)\n",
        "pd_merge_media = pd_text_media[['title', 'date']].merge(df_dolar_real[['Var', 'date']], on='date')\n",
        "pd_merge_media['var-dolar'] = pd_merge_media.apply(var_dolar, axis=1)\n",
        "pd_merge_media.head(10)\n",
        "\n",
        "pd_merge_media['pca'] = (\n",
        "            pd_merge_media['title']\n",
        "            .pipe(hero.clean)\n",
        "            .pipe(hero.tfidf)\n",
        "            .pipe(hero.pca)\n",
        "   )\n",
        "NUM_TOP_WORDS = 5\n",
        "pd_merge_media.groupby('var-dolar')['title'].apply(lambda x: hero.top_words(x)[:NUM_TOP_WORDS])\n"
      ],
      "execution_count": null,
      "outputs": [
        {
          "output_type": "execute_result",
          "data": {
            "text/plain": [
              "var-dolar          \n",
              "0          dólar       43\n",
              "           Ibovespa    38\n",
              "           sobe        34\n",
              "           meio        21\n",
              "           R           19\n",
              "1          R           23\n",
              "           dólar       21\n",
              "           Ibovespa    19\n",
              "           cai         14\n",
              "           sobe        11\n",
              "Name: title, dtype: int64"
            ]
          },
          "metadata": {
            "tags": []
          },
          "execution_count": 283
        }
      ]
    },
    {
      "cell_type": "code",
      "metadata": {
        "id": "gcADBpgQliG2",
        "colab": {
          "base_uri": "https://localhost:8080/",
          "height": 359
        },
        "outputId": "057fe5bd-76d5-4adc-d858-c4fc09d8887a"
      },
      "source": [
        "pd_merge_media.head(10)\n",
        "\n"
      ],
      "execution_count": null,
      "outputs": [
        {
          "output_type": "execute_result",
          "data": {
            "text/html": [
              "<div>\n",
              "<style scoped>\n",
              "    .dataframe tbody tr th:only-of-type {\n",
              "        vertical-align: middle;\n",
              "    }\n",
              "\n",
              "    .dataframe tbody tr th {\n",
              "        vertical-align: top;\n",
              "    }\n",
              "\n",
              "    .dataframe thead th {\n",
              "        text-align: right;\n",
              "    }\n",
              "</style>\n",
              "<table border=\"1\" class=\"dataframe\">\n",
              "  <thead>\n",
              "    <tr style=\"text-align: right;\">\n",
              "      <th></th>\n",
              "      <th>title</th>\n",
              "      <th>date</th>\n",
              "      <th>Var</th>\n",
              "      <th>var-dolar</th>\n",
              "      <th>pca</th>\n",
              "    </tr>\n",
              "  </thead>\n",
              "  <tbody>\n",
              "    <tr>\n",
              "      <th>0</th>\n",
              "      <td>Dólar</td>\n",
              "      <td>2021-02-26</td>\n",
              "      <td>1.23</td>\n",
              "      <td>0</td>\n",
              "      <td>[-0.044125395193067705, -0.19187254132013742]</td>\n",
              "    </tr>\n",
              "    <tr>\n",
              "      <th>1</th>\n",
              "      <td>Ibovespa sobe  atenção  resultados  empresas  ...</td>\n",
              "      <td>2021-02-26</td>\n",
              "      <td>1.23</td>\n",
              "      <td>0</td>\n",
              "      <td>[0.02327713426829396, -0.2314227724471971]</td>\n",
              "    </tr>\n",
              "    <tr>\n",
              "      <th>2</th>\n",
              "      <td>Ibovespa fecha  queda  4,4%  mês  meio  preocu...</td>\n",
              "      <td>2021-02-26</td>\n",
              "      <td>1.23</td>\n",
              "      <td>0</td>\n",
              "      <td>[-0.0333809856644566, -0.16645185110555516]</td>\n",
              "    </tr>\n",
              "    <tr>\n",
              "      <th>3</th>\n",
              "      <td>Ibovespa Futuro sobe descolado  exterior  inve...</td>\n",
              "      <td>2021-02-26</td>\n",
              "      <td>1.23</td>\n",
              "      <td>0</td>\n",
              "      <td>[0.007486370367913691, -0.298175082124485]</td>\n",
              "    </tr>\n",
              "    <tr>\n",
              "      <th>4</th>\n",
              "      <td>Banco Central registra lucro  R$ 469 bilhões  ...</td>\n",
              "      <td>2021-02-26</td>\n",
              "      <td>1.23</td>\n",
              "      <td>0</td>\n",
              "      <td>[0.07934069622139768, -0.18958118768059487]</td>\n",
              "    </tr>\n",
              "    <tr>\n",
              "      <th>5</th>\n",
              "      <td>Iniciativa  dólar digital  Fed preocupa Wall S...</td>\n",
              "      <td>2021-03-22</td>\n",
              "      <td>0.23</td>\n",
              "      <td>0</td>\n",
              "      <td>[0.06490760431646354, -0.18050216502015054]</td>\n",
              "    </tr>\n",
              "    <tr>\n",
              "      <th>6</th>\n",
              "      <td>Não aposte contra  dólar,  reforce  exposição ...</td>\n",
              "      <td>2021-03-22</td>\n",
              "      <td>0.23</td>\n",
              "      <td>0</td>\n",
              "      <td>[0.06825196023887103, -0.16803052926392534]</td>\n",
              "    </tr>\n",
              "    <tr>\n",
              "      <th>7</th>\n",
              "      <td>Ibovespa cai  meio  preocupações   pandemia  d...</td>\n",
              "      <td>2021-03-22</td>\n",
              "      <td>0.23</td>\n",
              "      <td>0</td>\n",
              "      <td>[-0.024225460838381972, -0.1958265654721929]</td>\n",
              "    </tr>\n",
              "    <tr>\n",
              "      <th>8</th>\n",
              "      <td>Ibovespa fecha  queda  1%  meio  aversão  emer...</td>\n",
              "      <td>2021-03-22</td>\n",
              "      <td>0.23</td>\n",
              "      <td>0</td>\n",
              "      <td>[-0.03282416502892476, -0.1998805285554992]</td>\n",
              "    </tr>\n",
              "    <tr>\n",
              "      <th>9</th>\n",
              "      <td>Ibovespa Futuro cai diante  temor  3ª onda  Co...</td>\n",
              "      <td>2021-03-22</td>\n",
              "      <td>0.23</td>\n",
              "      <td>0</td>\n",
              "      <td>[0.035947584330985924, -0.23824161964898777]</td>\n",
              "    </tr>\n",
              "  </tbody>\n",
              "</table>\n",
              "</div>"
            ],
            "text/plain": [
              "                                               title  ...                                            pca\n",
              "0                                              Dólar  ...  [-0.044125395193067705, -0.19187254132013742]\n",
              "1  Ibovespa sobe  atenção  resultados  empresas  ...  ...     [0.02327713426829396, -0.2314227724471971]\n",
              "2  Ibovespa fecha  queda  4,4%  mês  meio  preocu...  ...    [-0.0333809856644566, -0.16645185110555516]\n",
              "3  Ibovespa Futuro sobe descolado  exterior  inve...  ...     [0.007486370367913691, -0.298175082124485]\n",
              "4  Banco Central registra lucro  R$ 469 bilhões  ...  ...    [0.07934069622139768, -0.18958118768059487]\n",
              "5  Iniciativa  dólar digital  Fed preocupa Wall S...  ...    [0.06490760431646354, -0.18050216502015054]\n",
              "6  Não aposte contra  dólar,  reforce  exposição ...  ...    [0.06825196023887103, -0.16803052926392534]\n",
              "7  Ibovespa cai  meio  preocupações   pandemia  d...  ...   [-0.024225460838381972, -0.1958265654721929]\n",
              "8  Ibovespa fecha  queda  1%  meio  aversão  emer...  ...    [-0.03282416502892476, -0.1998805285554992]\n",
              "9  Ibovespa Futuro cai diante  temor  3ª onda  Co...  ...   [0.035947584330985924, -0.23824161964898777]\n",
              "\n",
              "[10 rows x 5 columns]"
            ]
          },
          "metadata": {
            "tags": []
          },
          "execution_count": 284
        }
      ]
    },
    {
      "cell_type": "markdown",
      "metadata": {
        "id": "LZLU4gDLBuIo"
      },
      "source": [
        ""
      ]
    }
  ]
}